{
  "nbformat": 4,
  "nbformat_minor": 0,
  "metadata": {
    "colab": {
      "provenance": []
    },
    "kernelspec": {
      "name": "python3",
      "display_name": "Python 3"
    },
    "language_info": {
      "name": "python"
    }
  },
  "cells": [
    {
      "cell_type": "code",
      "source": [
        "import pandas as pd"
      ],
      "metadata": {
        "id": "11Z65eRx6sAn"
      },
      "execution_count": null,
      "outputs": []
    },
    {
      "cell_type": "code",
      "source": [
        "df2 = pd.read_csv(\"/content/R75252L02 (Block 3)-household characteristics.txt\", sep=\"\\t\", encoding=\"utf-8\", names=[\n",
        "    \"HHID\", \"Centre_Round\", \"FSU\", \"Round\", \"Schedule\", \"Sample\", \"Sector\",\n",
        "    \"NSS_Region\", \"State\", \"District\", \"StateDistrict\", \"Stratum\", \"Sub_stratum\",\n",
        "    \"Sub_Round\", \"Sub_sample\", \"FOD_Sub_Region\", \"Hamlet_Sub_block\",\n",
        "    \"Second_stage_stratum\", \"Sample_hhld\", \"Level\", \"Filler\", \"Household_size\",\n",
        "    \"NIC_2008_5d_code\", \"NCO_2004_3d_code\", \"Household_type\", \"HH_Type\", \"Religion\",\n",
        "    \"Social_group\", \"Distance_primary_school\", \"Distance_upper_school\",\n",
        "    \"Distance_secondary_school\", \"HH_Computer\", \"Member_internet\",\n",
        "    \"Any_HH_member_3_35yrs_attnd_edu\", \"Hostel\", \"Location_State_ut\",\n",
        "    \"Location_district\", \"Location_sector\", \"HH_Con_exp_rs\", \"NSS\", \"NSC\", \"MULT\",\n",
        "    \"MULT_SubSample\", \"MULT_Combined\"])"
      ],
      "metadata": {
        "id": "RCz_o3O06yVM"
      },
      "execution_count": null,
      "outputs": []
    },
    {
      "cell_type": "code",
      "source": [
        "selected_columns = [\n",
        "    \"HHID\", \"State\", \"Sector\", \"Household_size\",\"Household_type\", \"Religion\", \"Social_group\",\n",
        "    \"Distance_primary_school\", \"Distance_upper_school\", \"Distance_secondary_school\",\n",
        "    \"HH_Computer\", \"Member_internet\", \"HH_Con_exp_rs\", \"Any_HH_member_3_35yrs_attnd_edu\"\n",
        "]\n",
        "\n",
        "df2 = df2[selected_columns]\n"
      ],
      "metadata": {
        "id": "-0W8fB_QwN2Q"
      },
      "execution_count": null,
      "outputs": []
    },
    {
      "cell_type": "code",
      "source": [
        "df2.shape"
      ],
      "metadata": {
        "colab": {
          "base_uri": "https://localhost:8080/"
        },
        "id": "9mVsjaOAAXqI",
        "outputId": "b5abe028-d940-4446-8f61-9df6d63a4141"
      },
      "execution_count": null,
      "outputs": [
        {
          "output_type": "execute_result",
          "data": {
            "text/plain": [
              "(113757, 14)"
            ]
          },
          "metadata": {},
          "execution_count": 6
        }
      ]
    },
    {
      "cell_type": "code",
      "source": [
        "# Assuming df2 is your DataFrame and it already contains 'Household_type' and 'Sector' columns\n",
        "\n",
        "# Create a new column 'HH_Economic_Activity' and initialize it with NaN\n",
        "df2['HH_Economic_Activity'] = None\n",
        "\n",
        "# Recode based on rural/urban and household type\n",
        "# Rural areas (Sector == 1)\n",
        "df2.loc[(df2['Household_type'] == 1) & (df2['Sector'] == 1), 'HH_Economic_Activity'] = 1  # Rural: Self-employed in agriculture\n",
        "df2.loc[(df2['Household_type'] == 2) & (df2['Sector'] == 1), 'HH_Economic_Activity'] = 2  # Rural: Self-employed in non-agriculture\n",
        "df2.loc[(df2['Household_type'] == 3) & (df2['Sector'] == 1), 'HH_Economic_Activity'] = 3  # Rural: Regular wage/salary in agriculture\n",
        "df2.loc[(df2['Household_type'] == 4) & (df2['Sector'] == 1), 'HH_Economic_Activity'] = 4  # Rural: Regular wage/salary in non-agriculture\n",
        "df2.loc[(df2['Household_type'] == 5) & (df2['Sector'] == 1), 'HH_Economic_Activity'] = 5  # Rural: Casual labour in agriculture\n",
        "df2.loc[(df2['Household_type'] == 6) & (df2['Sector'] == 1), 'HH_Economic_Activity'] = 6  # Rural: Casual labour in non-agriculture\n",
        "\n",
        "# Urban areas (Sector == 2)\n",
        "df2.loc[(df2['Household_type'] == 1) & (df2['Sector'] == 2), 'HH_Economic_Activity'] = 7  # Urban: Self-employed\n",
        "df2.loc[(df2['Household_type'] == 2) & (df2['Sector'] == 2), 'HH_Economic_Activity'] = 8  # Urban: Regular wage/salary\n",
        "df2.loc[(df2['Household_type'] == 3) & (df2['Sector'] == 2), 'HH_Economic_Activity'] = 9  # Urban: Casual labour\n",
        "\n",
        "# Others (Household_type == 9, both rural and urban)\n",
        "df2.loc[df2['Household_type'] == 9, 'HH_Economic_Activity'] = 10  # Others\n",
        "\n",
        "# Add labels to the new variable\n",
        "economic_activity_labels = {\n",
        "    1: \"Rural: Self-employed (Agri)\",\n",
        "    2: \"Rural: Self-employed (Non-Agri)\",\n",
        "    3: \"Rural: Regular wage/salary (Agri)\",\n",
        "    4: \"Rural: Regular wage/salary (Non-Agri)\",\n",
        "    5: \"Rural: Casual labour (Agri)\",\n",
        "    6: \"Rural: Casual labour (Non-Agri)\",\n",
        "    7: \"Urban: Self-employed\",\n",
        "    8: \"Urban: Regular wage/salary\",\n",
        "    9: \"Urban: Casual labour\",\n",
        "    10: \"Others\"\n",
        "}\n",
        "\n",
        "# Map the labels to the new column\n",
        "df2['HH_Economic_Activity'] = df2['HH_Economic_Activity'].map(economic_activity_labels)\n",
        "\n",
        "# Check the results\n",
        "print(df2['HH_Economic_Activity'].value_counts())"
      ],
      "metadata": {
        "colab": {
          "base_uri": "https://localhost:8080/"
        },
        "id": "pOSE6i3l2PM1",
        "outputId": "27ae4410-fb64-49b3-ceca-0f10e2204f75"
      },
      "execution_count": null,
      "outputs": [
        {
          "output_type": "stream",
          "name": "stdout",
          "text": [
            "HH_Economic_Activity\n",
            "Rural: Self-employed (Agri)              25760\n",
            "Urban: Self-employed                     19407\n",
            "Urban: Regular wage/salary               17833\n",
            "Rural: Self-employed (Non-Agri)          10401\n",
            "Others                                    9786\n",
            "Rural: Casual labour (Agri)               8699\n",
            "Rural: Casual labour (Non-Agri)           8246\n",
            "Rural: Regular wage/salary (Non-Agri)     6972\n",
            "Urban: Casual labour                      5856\n",
            "Rural: Regular wage/salary (Agri)          796\n",
            "Name: count, dtype: int64\n"
          ]
        }
      ]
    },
    {
      "cell_type": "code",
      "source": [
        "df2[\"HH_Economic_Activity\"].value_counts()"
      ],
      "metadata": {
        "colab": {
          "base_uri": "https://localhost:8080/",
          "height": 429
        },
        "id": "27WgLZGP3EQT",
        "outputId": "f61b5147-0dae-4c9b-cad5-8439e8871492"
      },
      "execution_count": null,
      "outputs": [
        {
          "output_type": "execute_result",
          "data": {
            "text/plain": [
              "HH_Economic_Activity\n",
              "Rural: Self-employed (Agri)              25760\n",
              "Urban: Self-employed                     19407\n",
              "Urban: Regular wage/salary               17833\n",
              "Rural: Self-employed (Non-Agri)          10401\n",
              "Others                                    9786\n",
              "Rural: Casual labour (Agri)               8699\n",
              "Rural: Casual labour (Non-Agri)           8246\n",
              "Rural: Regular wage/salary (Non-Agri)     6972\n",
              "Urban: Casual labour                      5856\n",
              "Rural: Regular wage/salary (Agri)          796\n",
              "Name: count, dtype: int64"
            ],
            "text/html": [
              "<div>\n",
              "<style scoped>\n",
              "    .dataframe tbody tr th:only-of-type {\n",
              "        vertical-align: middle;\n",
              "    }\n",
              "\n",
              "    .dataframe tbody tr th {\n",
              "        vertical-align: top;\n",
              "    }\n",
              "\n",
              "    .dataframe thead th {\n",
              "        text-align: right;\n",
              "    }\n",
              "</style>\n",
              "<table border=\"1\" class=\"dataframe\">\n",
              "  <thead>\n",
              "    <tr style=\"text-align: right;\">\n",
              "      <th></th>\n",
              "      <th>count</th>\n",
              "    </tr>\n",
              "    <tr>\n",
              "      <th>HH_Economic_Activity</th>\n",
              "      <th></th>\n",
              "    </tr>\n",
              "  </thead>\n",
              "  <tbody>\n",
              "    <tr>\n",
              "      <th>Rural: Self-employed (Agri)</th>\n",
              "      <td>25760</td>\n",
              "    </tr>\n",
              "    <tr>\n",
              "      <th>Urban: Self-employed</th>\n",
              "      <td>19407</td>\n",
              "    </tr>\n",
              "    <tr>\n",
              "      <th>Urban: Regular wage/salary</th>\n",
              "      <td>17833</td>\n",
              "    </tr>\n",
              "    <tr>\n",
              "      <th>Rural: Self-employed (Non-Agri)</th>\n",
              "      <td>10401</td>\n",
              "    </tr>\n",
              "    <tr>\n",
              "      <th>Others</th>\n",
              "      <td>9786</td>\n",
              "    </tr>\n",
              "    <tr>\n",
              "      <th>Rural: Casual labour (Agri)</th>\n",
              "      <td>8699</td>\n",
              "    </tr>\n",
              "    <tr>\n",
              "      <th>Rural: Casual labour (Non-Agri)</th>\n",
              "      <td>8246</td>\n",
              "    </tr>\n",
              "    <tr>\n",
              "      <th>Rural: Regular wage/salary (Non-Agri)</th>\n",
              "      <td>6972</td>\n",
              "    </tr>\n",
              "    <tr>\n",
              "      <th>Urban: Casual labour</th>\n",
              "      <td>5856</td>\n",
              "    </tr>\n",
              "    <tr>\n",
              "      <th>Rural: Regular wage/salary (Agri)</th>\n",
              "      <td>796</td>\n",
              "    </tr>\n",
              "  </tbody>\n",
              "</table>\n",
              "</div><br><label><b>dtype:</b> int64</label>"
            ]
          },
          "metadata": {},
          "execution_count": 8
        }
      ]
    },
    {
      "cell_type": "code",
      "source": [
        "df5 = pd.read_csv(\"/content/R75252L05 (Block-5)-Dducation particulars on basic course of the persons of age 3 to 35 years who a.txt\", sep=\"\\t\", encoding=\"utf-8\", names=[\n",
        "    \"HHID\", \"Centre_Round\", \"FSU\", \"Round\", \"Schedule\", \"Sample\", \"Sector\",\n",
        "    \"NSS_Region\", \"State\", \"District\", \"StateDistrict\", \"Stratum\", \"Sub_stratum\",\n",
        "    \"Sub_Round\", \"Sub_sample\", \"FOD_Sub_Region\", \"Hamlet_Sub_block\",\n",
        "    \"Second_stage_stratum\", \"Sample_hhld\", \"Level\", \"Filler\", \"Per_serialno\",\n",
        "    \"Age\", \"School_entry_age\", \"Language_spoken\", \"Medium_instruction\",\n",
        "    \"Enrol_basic_course\", \"Course_attending\", \"Type_course\", \"Course_duration_mnth\",\n",
        "    \"Whether_same_grade\", \"Institution_type\", \"Nature_institution\",\n",
        "    \"Pvt_insttn_reason1\", \"Pvt_insttn_reason2\", \"Disbty_attnd_special_school\",\n",
        "    \"Free_education\", \"Tution_free_payable\", \"Tution_free_partly_not_payable\",\n",
        "    \"Tution_fee_waived_amt\", \"Scholarship_stipend\", \"Scholarship_stipend_amt\",\n",
        "    \"Reimbursement_type\", \"Reimbursement_agency\", \"Whether_free_textbooks\",\n",
        "    \"Whether_free_stationary\", \"Midday_meal_tiffin\", \"Midday_meal_tiffin_agency\",\n",
        "    \"Transport_mode\", \"Concession_received\", \"Residance_insttn_distance\",\n",
        "    \"Change_insttn_365days\", \"Taking_pvt_coaching\", \"NSS\", \"NSC\", \"MULT\",\n",
        "    \"MULT_SubSample\", \"MULT_Combined\"\n",
        "])\n"
      ],
      "metadata": {
        "id": "DnNsZ1pk66hi"
      },
      "execution_count": null,
      "outputs": []
    },
    {
      "cell_type": "code",
      "source": [
        "selected_columns = [\n",
        "    \"HHID\", \"Per_serialno\", \"Medium_instruction\", \"Enrol_basic_course\", \"Institution_type\",\"Tution_free_payable\", \"Scholarship_stipend\", \"Taking_pvt_coaching\"\n",
        "]\n",
        "\n",
        "df5 = df5[selected_columns]"
      ],
      "metadata": {
        "id": "0RR_TgNe8hdp"
      },
      "execution_count": null,
      "outputs": []
    },
    {
      "cell_type": "code",
      "source": [
        "df5.shape"
      ],
      "metadata": {
        "colab": {
          "base_uri": "https://localhost:8080/"
        },
        "id": "Oi8fSHM58tod",
        "outputId": "a5a02c43-8c44-45de-a7ed-edd677cfc4c1"
      },
      "execution_count": null,
      "outputs": [
        {
          "output_type": "execute_result",
          "data": {
            "text/plain": [
              "(152992, 8)"
            ]
          },
          "metadata": {},
          "execution_count": 11
        }
      ]
    },
    {
      "cell_type": "code",
      "source": [
        "df5.info()"
      ],
      "metadata": {
        "colab": {
          "base_uri": "https://localhost:8080/"
        },
        "id": "vObPLAH683vQ",
        "outputId": "382aad28-f064-4e86-8d9f-63ea646c255f"
      },
      "execution_count": null,
      "outputs": [
        {
          "output_type": "stream",
          "name": "stdout",
          "text": [
            "<class 'pandas.core.frame.DataFrame'>\n",
            "RangeIndex: 152992 entries, 0 to 152991\n",
            "Data columns (total 8 columns):\n",
            " #   Column               Non-Null Count   Dtype  \n",
            "---  ------               --------------   -----  \n",
            " 0   HHID                 152992 non-null  int64  \n",
            " 1   Per_serialno         152992 non-null  int64  \n",
            " 2   Medium_instruction   152823 non-null  float64\n",
            " 3   Enrol_basic_course   152992 non-null  int64  \n",
            " 4   Institution_type     152558 non-null  float64\n",
            " 5   Tution_free_payable  152558 non-null  float64\n",
            " 6   Scholarship_stipend  152558 non-null  float64\n",
            " 7   Taking_pvt_coaching  152558 non-null  float64\n",
            "dtypes: float64(5), int64(3)\n",
            "memory usage: 9.3 MB\n"
          ]
        }
      ]
    },
    {
      "cell_type": "code",
      "source": [
        "merged_data = pd.merge(df2, df5, on=\"HHID\", how=\"left\")\n"
      ],
      "metadata": {
        "id": "V_QRjHHg_-zR"
      },
      "execution_count": null,
      "outputs": []
    },
    {
      "cell_type": "code",
      "source": [
        "merged_data.info()"
      ],
      "metadata": {
        "colab": {
          "base_uri": "https://localhost:8080/"
        },
        "id": "gFXKrME0AjuL",
        "outputId": "6f3eb9dc-de8f-45f9-e818-91c86813d532"
      },
      "execution_count": null,
      "outputs": [
        {
          "output_type": "stream",
          "name": "stdout",
          "text": [
            "<class 'pandas.core.frame.DataFrame'>\n",
            "RangeIndex: 181504 entries, 0 to 181503\n",
            "Data columns (total 22 columns):\n",
            " #   Column                           Non-Null Count   Dtype  \n",
            "---  ------                           --------------   -----  \n",
            " 0   HHID                             181504 non-null  int64  \n",
            " 1   State                            181504 non-null  int64  \n",
            " 2   Sector                           181504 non-null  int64  \n",
            " 3   Household_size                   181504 non-null  int64  \n",
            " 4   Household_type                   181503 non-null  float64\n",
            " 5   Religion                         181499 non-null  float64\n",
            " 6   Social_group                     181504 non-null  int64  \n",
            " 7   Distance_primary_school          181503 non-null  float64\n",
            " 8   Distance_upper_school            181503 non-null  float64\n",
            " 9   Distance_secondary_school        181503 non-null  float64\n",
            " 10  HH_Computer                      181504 non-null  int64  \n",
            " 11  Member_internet                  181504 non-null  int64  \n",
            " 12  HH_Con_exp_rs                    181504 non-null  int64  \n",
            " 13  Any_HH_member_3_35yrs_attnd_edu  181504 non-null  int64  \n",
            " 14  HH_Economic_Activity             181503 non-null  object \n",
            " 15  Per_serialno                     152992 non-null  float64\n",
            " 16  Medium_instruction               152823 non-null  float64\n",
            " 17  Enrol_basic_course               152992 non-null  float64\n",
            " 18  Institution_type                 152558 non-null  float64\n",
            " 19  Tution_free_payable              152558 non-null  float64\n",
            " 20  Scholarship_stipend              152558 non-null  float64\n",
            " 21  Taking_pvt_coaching              152558 non-null  float64\n",
            "dtypes: float64(12), int64(9), object(1)\n",
            "memory usage: 30.5+ MB\n"
          ]
        }
      ]
    },
    {
      "cell_type": "code",
      "source": [
        "df4 = pd.read_csv(\"/content/R75252L04 (Block-4)-Demographic and other particulars of household members.txt\", sep=\"\\t\", encoding=\"utf-8\", names=[\n",
        "    \"HHID\", \"Centre_Round\", \"FSU\", \"Round\", \"Schedule\", \"Sample\", \"Sector\",\n",
        "    \"NSS_Region\", \"State\", \"District\", \"StateDistrict\", \"Stratum\", \"Sub_stratum\",\n",
        "    \"Sub_Round\", \"Sub_sample\", \"FOD_Sub_Region\", \"Hamlet_Sub_block\",\n",
        "    \"Second_stage_stratum\", \"Sample_hhld\", \"Level\", \"Filler\", \"Per_serialno\",\n",
        "    \"Relation_head\", \"Gender\", \"Age\", \"Marital_status\", \"Edu_level_general\",\n",
        "    \"Edu_level_technical\", \"Completed_class_grade\", \"Edu_completed_inYrs\",\n",
        "    \"enrolmt_3_35_yrs_status\", \"Operate_computer_age_5yrs\", \"Operate_internet_age_5yrs\",\n",
        "    \"Age5yrs_Use_internet_last30days\", \"Per_12_59yrs_voca_tech_training\",\n",
        "    \"Disability_crtificate\", \"Disability_type\", \"NSS\", \"NSC\", \"MULT\",\n",
        "    \"MULT_SubSample\", \"MULT_Combined\"\n",
        "])\n"
      ],
      "metadata": {
        "id": "b-g_vPZlTCc2"
      },
      "execution_count": null,
      "outputs": []
    },
    {
      "cell_type": "code",
      "source": [
        "selected_columns = [\n",
        "    \"HHID\", \"Per_serialno\",\"Age\",\"Gender\",\"Edu_level_general\", \"Edu_level_technical\",\n",
        "    \"Operate_computer_age_5yrs\", \"Operate_internet_age_5yrs\", \"Age5yrs_Use_internet_last30days\",\n",
        "    \"Per_12_59yrs_voca_tech_training\", \"Disability_crtificate\", \"Disability_type\"\n",
        "]\n",
        "\n",
        "df4 = df4[selected_columns]\n"
      ],
      "metadata": {
        "id": "eZXsEcMcTKvm"
      },
      "execution_count": null,
      "outputs": []
    },
    {
      "cell_type": "code",
      "source": [
        "df4.info()"
      ],
      "metadata": {
        "colab": {
          "base_uri": "https://localhost:8080/"
        },
        "id": "JRZHJ0fyTO2v",
        "outputId": "ca33d7c8-3bdf-42e6-e39b-b6ef4f7428d9"
      },
      "execution_count": null,
      "outputs": [
        {
          "output_type": "stream",
          "name": "stdout",
          "text": [
            "<class 'pandas.core.frame.DataFrame'>\n",
            "RangeIndex: 416915 entries, 0 to 416914\n",
            "Data columns (total 12 columns):\n",
            " #   Column                           Non-Null Count   Dtype  \n",
            "---  ------                           --------------   -----  \n",
            " 0   HHID                             416915 non-null  int64  \n",
            " 1   Per_serialno                     416914 non-null  float64\n",
            " 2   Age                              416913 non-null  float64\n",
            " 3   Gender                           416914 non-null  float64\n",
            " 4   Edu_level_general                416914 non-null  float64\n",
            " 5   Edu_level_technical              416904 non-null  float64\n",
            " 6   Operate_computer_age_5yrs        389835 non-null  float64\n",
            " 7   Operate_internet_age_5yrs        389835 non-null  float64\n",
            " 8   Age5yrs_Use_internet_last30days  389835 non-null  float64\n",
            " 9   Per_12_59yrs_voca_tech_training  308768 non-null  float64\n",
            " 10  Disability_crtificate            416914 non-null  float64\n",
            " 11  Disability_type                  5651 non-null    float64\n",
            "dtypes: float64(11), int64(1)\n",
            "memory usage: 38.2 MB\n"
          ]
        }
      ]
    },
    {
      "cell_type": "code",
      "source": [
        "merged_data = pd.merge(merged_data, df4, on=[\"HHID\",\"Per_serialno\"], how=\"left\")\n"
      ],
      "metadata": {
        "id": "rnUWM1pETiwl"
      },
      "execution_count": null,
      "outputs": []
    },
    {
      "cell_type": "code",
      "source": [
        "merged_data.info()"
      ],
      "metadata": {
        "colab": {
          "base_uri": "https://localhost:8080/"
        },
        "id": "VbwXR2JVTtKY",
        "outputId": "3c9c9d48-4512-478d-d627-3c9e32c629eb"
      },
      "execution_count": null,
      "outputs": [
        {
          "output_type": "stream",
          "name": "stdout",
          "text": [
            "<class 'pandas.core.frame.DataFrame'>\n",
            "RangeIndex: 181504 entries, 0 to 181503\n",
            "Data columns (total 32 columns):\n",
            " #   Column                           Non-Null Count   Dtype  \n",
            "---  ------                           --------------   -----  \n",
            " 0   HHID                             181504 non-null  int64  \n",
            " 1   State                            181504 non-null  int64  \n",
            " 2   Sector                           181504 non-null  int64  \n",
            " 3   Household_size                   181504 non-null  int64  \n",
            " 4   Household_type                   181503 non-null  float64\n",
            " 5   Religion                         181499 non-null  float64\n",
            " 6   Social_group                     181504 non-null  int64  \n",
            " 7   Distance_primary_school          181503 non-null  float64\n",
            " 8   Distance_upper_school            181503 non-null  float64\n",
            " 9   Distance_secondary_school        181503 non-null  float64\n",
            " 10  HH_Computer                      181504 non-null  int64  \n",
            " 11  Member_internet                  181504 non-null  int64  \n",
            " 12  HH_Con_exp_rs                    181504 non-null  int64  \n",
            " 13  Any_HH_member_3_35yrs_attnd_edu  181504 non-null  int64  \n",
            " 14  HH_Economic_Activity             181503 non-null  object \n",
            " 15  Per_serialno                     152992 non-null  float64\n",
            " 16  Medium_instruction               152823 non-null  float64\n",
            " 17  Enrol_basic_course               152992 non-null  float64\n",
            " 18  Institution_type                 152558 non-null  float64\n",
            " 19  Tution_free_payable              152558 non-null  float64\n",
            " 20  Scholarship_stipend              152558 non-null  float64\n",
            " 21  Taking_pvt_coaching              152558 non-null  float64\n",
            " 22  Age                              123339 non-null  float64\n",
            " 23  Gender                           123339 non-null  float64\n",
            " 24  Edu_level_general                123339 non-null  float64\n",
            " 25  Edu_level_technical              123330 non-null  float64\n",
            " 26  Operate_computer_age_5yrs        120932 non-null  float64\n",
            " 27  Operate_internet_age_5yrs        120932 non-null  float64\n",
            " 28  Age5yrs_Use_internet_last30days  120932 non-null  float64\n",
            " 29  Per_12_59yrs_voca_tech_training  77200 non-null   float64\n",
            " 30  Disability_crtificate            123339 non-null  float64\n",
            " 31  Disability_type                  4755 non-null    float64\n",
            "dtypes: float64(22), int64(9), object(1)\n",
            "memory usage: 44.3+ MB\n"
          ]
        }
      ]
    },
    {
      "cell_type": "code",
      "source": [
        "df6 = pd.read_csv(\"/content/R75252L06 (Block 6)-Particulars of expenditure (Rs.) for persons of age 3 to 35 years who are curre.txt\", sep=\"\\t\", encoding=\"utf-8\", names=[\n",
        "    \"HHID\", \"Centre_Round\", \"FSU\", \"Round\", \"Schedule\", \"Sample\", \"Sector\",\n",
        "    \"NSS_Region\", \"State\", \"District\", \"StateDistrict\", \"Stratum\", \"Sub_stratum\",\n",
        "    \"Sub_Round\", \"Sub_sample\", \"FOD_Sub_Region\", \"Hamlet_Sub_block\",\n",
        "    \"Second_stage_stratum\", \"Sample_hhld\", \"Level\", \"Filler\", \"Per_serialno\",\n",
        "    \"Age\", \"Course_fee_amt\", \"Books_stationery_uniform_amt\", \"Transport_amt\",\n",
        "    \"Private_coaching_amt\", \"Other_expenditure_amt\", \"Total_expenditure_amt\",\n",
        "    \"Source_funding_basic_exp\", \"Source_funding_second_exp\", \"Exp_other_course_amt\",\n",
        "    \"Exp_prep_higher_studies_amt\", \"Worked_30days\", \"Economic_activity_status\",\n",
        "    \"Seeking_available_work\", \"NSS\", \"NSC\", \"MULT\", \"MULT_SubSample\", \"MULT_Combined\"\n",
        "])\n"
      ],
      "metadata": {
        "id": "v4Sxt5U2UmHU"
      },
      "execution_count": null,
      "outputs": []
    },
    {
      "cell_type": "code",
      "source": [
        "selected_columns = [\n",
        "    \"HHID\",\"Per_serialno\", \"Private_coaching_amt\", \"Course_fee_amt\", \"Books_stationery_uniform_amt\", \"Source_funding_basic_exp\"\n",
        "]\n",
        "\n",
        "df6 = df6[selected_columns]\n"
      ],
      "metadata": {
        "id": "EkCnIymjUuFh"
      },
      "execution_count": null,
      "outputs": []
    },
    {
      "cell_type": "code",
      "source": [
        "merged_data = pd.merge(merged_data, df6, on=[\"HHID\",\"Per_serialno\"], how=\"left\")\n"
      ],
      "metadata": {
        "id": "HKT8347mUyeU"
      },
      "execution_count": null,
      "outputs": []
    },
    {
      "cell_type": "code",
      "source": [
        "merged_data.info()"
      ],
      "metadata": {
        "colab": {
          "base_uri": "https://localhost:8080/"
        },
        "id": "1sce16G9VAMU",
        "outputId": "3b23882e-3ca1-4166-9446-ed03735af1d7"
      },
      "execution_count": null,
      "outputs": [
        {
          "output_type": "stream",
          "name": "stdout",
          "text": [
            "<class 'pandas.core.frame.DataFrame'>\n",
            "RangeIndex: 181504 entries, 0 to 181503\n",
            "Data columns (total 36 columns):\n",
            " #   Column                           Non-Null Count   Dtype  \n",
            "---  ------                           --------------   -----  \n",
            " 0   HHID                             181504 non-null  int64  \n",
            " 1   State                            181504 non-null  int64  \n",
            " 2   Sector                           181504 non-null  int64  \n",
            " 3   Household_size                   181504 non-null  int64  \n",
            " 4   Household_type                   181503 non-null  float64\n",
            " 5   Religion                         181499 non-null  float64\n",
            " 6   Social_group                     181504 non-null  int64  \n",
            " 7   Distance_primary_school          181503 non-null  float64\n",
            " 8   Distance_upper_school            181503 non-null  float64\n",
            " 9   Distance_secondary_school        181503 non-null  float64\n",
            " 10  HH_Computer                      181504 non-null  int64  \n",
            " 11  Member_internet                  181504 non-null  int64  \n",
            " 12  HH_Con_exp_rs                    181504 non-null  int64  \n",
            " 13  Any_HH_member_3_35yrs_attnd_edu  181504 non-null  int64  \n",
            " 14  HH_Economic_Activity             181503 non-null  object \n",
            " 15  Per_serialno                     152992 non-null  float64\n",
            " 16  Medium_instruction               152823 non-null  float64\n",
            " 17  Enrol_basic_course               152992 non-null  float64\n",
            " 18  Institution_type                 152558 non-null  float64\n",
            " 19  Tution_free_payable              152558 non-null  float64\n",
            " 20  Scholarship_stipend              152558 non-null  float64\n",
            " 21  Taking_pvt_coaching              152558 non-null  float64\n",
            " 22  Age                              123339 non-null  float64\n",
            " 23  Gender                           123339 non-null  float64\n",
            " 24  Edu_level_general                123339 non-null  float64\n",
            " 25  Edu_level_technical              123330 non-null  float64\n",
            " 26  Operate_computer_age_5yrs        120932 non-null  float64\n",
            " 27  Operate_internet_age_5yrs        120932 non-null  float64\n",
            " 28  Age5yrs_Use_internet_last30days  120932 non-null  float64\n",
            " 29  Per_12_59yrs_voca_tech_training  77200 non-null   float64\n",
            " 30  Disability_crtificate            123339 non-null  float64\n",
            " 31  Disability_type                  4755 non-null    float64\n",
            " 32  Private_coaching_amt             64245 non-null   float64\n",
            " 33  Course_fee_amt                   130050 non-null  float64\n",
            " 34  Books_stationery_uniform_amt     150583 non-null  float64\n",
            " 35  Source_funding_basic_exp         152296 non-null  float64\n",
            "dtypes: float64(26), int64(9), object(1)\n",
            "memory usage: 49.9+ MB\n"
          ]
        }
      ]
    },
    {
      "cell_type": "code",
      "source": [
        "merged_data.shape"
      ],
      "metadata": {
        "colab": {
          "base_uri": "https://localhost:8080/"
        },
        "id": "1XE3ml4fZezA",
        "outputId": "c534381a-54ba-485e-b9c7-febe8ab21cec"
      },
      "execution_count": null,
      "outputs": [
        {
          "output_type": "execute_result",
          "data": {
            "text/plain": [
              "(181504, 36)"
            ]
          },
          "metadata": {},
          "execution_count": 24
        }
      ]
    },
    {
      "cell_type": "code",
      "source": [
        "def wrangle(df):\n",
        "  #drop unimportant columns,columns with too much missing data and columns that could cause data leakage\n",
        "  df= df.drop(columns=[\"Household_type\",\"Private_coaching_amt\",\"Age5yrs_Use_internet_last30days\",\n",
        "                       \"Disability_type\",\"Per_12_59yrs_voca_tech_training\",\"Tution_free_payable\"])\n",
        "\n",
        "  #drop rows with missing values in key columns\n",
        "  df=df.dropna(subset=['Taking_pvt_coaching', \"HHID\",\"Per_serialno\",'HH_Con_exp_rs'])\n",
        "\n",
        "  # Drop duplicates (if any)\n",
        "  df=df.drop_duplicates()\n",
        "\n",
        "  #drop columns that are causing mc\n",
        "\n",
        "  #drop\n",
        "\n",
        "  return df\n",
        "\n"
      ],
      "metadata": {
        "id": "Gi-syoQO-n5M"
      },
      "execution_count": null,
      "outputs": []
    },
    {
      "cell_type": "code",
      "source": [
        "df = wrangle(merged_data)"
      ],
      "metadata": {
        "id": "o3ht_zQe-oH3"
      },
      "execution_count": null,
      "outputs": []
    },
    {
      "cell_type": "code",
      "source": [
        "df.shape"
      ],
      "metadata": {
        "colab": {
          "base_uri": "https://localhost:8080/"
        },
        "id": "xlB4yfpn-oO5",
        "outputId": "d5d274d6-d868-452e-bfa0-81ba03966f8e"
      },
      "execution_count": null,
      "outputs": [
        {
          "output_type": "execute_result",
          "data": {
            "text/plain": [
              "(152558, 30)"
            ]
          },
          "metadata": {},
          "execution_count": 27
        }
      ]
    },
    {
      "cell_type": "code",
      "source": [
        "df.info()"
      ],
      "metadata": {
        "colab": {
          "base_uri": "https://localhost:8080/"
        },
        "id": "dj14R8x6-oUz",
        "outputId": "94514365-a0a0-4e0e-b6df-1a42abd27a22"
      },
      "execution_count": null,
      "outputs": [
        {
          "output_type": "stream",
          "name": "stdout",
          "text": [
            "<class 'pandas.core.frame.DataFrame'>\n",
            "Index: 152558 entries, 0 to 181501\n",
            "Data columns (total 30 columns):\n",
            " #   Column                           Non-Null Count   Dtype  \n",
            "---  ------                           --------------   -----  \n",
            " 0   HHID                             152558 non-null  int64  \n",
            " 1   State                            152558 non-null  int64  \n",
            " 2   Sector                           152558 non-null  int64  \n",
            " 3   Household_size                   152558 non-null  int64  \n",
            " 4   Religion                         152553 non-null  float64\n",
            " 5   Social_group                     152558 non-null  int64  \n",
            " 6   Distance_primary_school          152558 non-null  float64\n",
            " 7   Distance_upper_school            152558 non-null  float64\n",
            " 8   Distance_secondary_school        152558 non-null  float64\n",
            " 9   HH_Computer                      152558 non-null  int64  \n",
            " 10  Member_internet                  152558 non-null  int64  \n",
            " 11  HH_Con_exp_rs                    152558 non-null  int64  \n",
            " 12  Any_HH_member_3_35yrs_attnd_edu  152558 non-null  int64  \n",
            " 13  HH_Economic_Activity             152558 non-null  object \n",
            " 14  Per_serialno                     152558 non-null  float64\n",
            " 15  Medium_instruction               152389 non-null  float64\n",
            " 16  Enrol_basic_course               152558 non-null  float64\n",
            " 17  Institution_type                 152558 non-null  float64\n",
            " 18  Scholarship_stipend              152558 non-null  float64\n",
            " 19  Taking_pvt_coaching              152558 non-null  float64\n",
            " 20  Age                              122937 non-null  float64\n",
            " 21  Gender                           122937 non-null  float64\n",
            " 22  Edu_level_general                122937 non-null  float64\n",
            " 23  Edu_level_technical              122928 non-null  float64\n",
            " 24  Operate_computer_age_5yrs        120701 non-null  float64\n",
            " 25  Operate_internet_age_5yrs        120701 non-null  float64\n",
            " 26  Disability_crtificate            122937 non-null  float64\n",
            " 27  Course_fee_amt                   130050 non-null  float64\n",
            " 28  Books_stationery_uniform_amt     150583 non-null  float64\n",
            " 29  Source_funding_basic_exp         152296 non-null  float64\n",
            "dtypes: float64(20), int64(9), object(1)\n",
            "memory usage: 36.1+ MB\n"
          ]
        }
      ]
    },
    {
      "cell_type": "code",
      "source": [
        "df.isna().sum()/df.shape[0]*100"
      ],
      "metadata": {
        "colab": {
          "base_uri": "https://localhost:8080/",
          "height": 1000
        },
        "id": "ulEVU4rI-oZN",
        "outputId": "85505f94-85ff-4c16-f36f-825cd15e7849"
      },
      "execution_count": null,
      "outputs": [
        {
          "output_type": "execute_result",
          "data": {
            "text/plain": [
              "HHID                                0.000000\n",
              "State                               0.000000\n",
              "Sector                              0.000000\n",
              "Household_size                      0.000000\n",
              "Religion                            0.003277\n",
              "Social_group                        0.000000\n",
              "Distance_primary_school             0.000000\n",
              "Distance_upper_school               0.000000\n",
              "Distance_secondary_school           0.000000\n",
              "HH_Computer                         0.000000\n",
              "Member_internet                     0.000000\n",
              "HH_Con_exp_rs                       0.000000\n",
              "Any_HH_member_3_35yrs_attnd_edu     0.000000\n",
              "HH_Economic_Activity                0.000000\n",
              "Per_serialno                        0.000000\n",
              "Medium_instruction                  0.110778\n",
              "Enrol_basic_course                  0.000000\n",
              "Institution_type                    0.000000\n",
              "Scholarship_stipend                 0.000000\n",
              "Taking_pvt_coaching                 0.000000\n",
              "Age                                19.416222\n",
              "Gender                             19.416222\n",
              "Edu_level_general                  19.416222\n",
              "Edu_level_technical                19.422121\n",
              "Operate_computer_age_5yrs          20.881894\n",
              "Operate_internet_age_5yrs          20.881894\n",
              "Disability_crtificate              19.416222\n",
              "Course_fee_amt                     14.753733\n",
              "Books_stationery_uniform_amt        1.294590\n",
              "Source_funding_basic_exp            0.171738\n",
              "dtype: float64"
            ],
            "text/html": [
              "<div>\n",
              "<style scoped>\n",
              "    .dataframe tbody tr th:only-of-type {\n",
              "        vertical-align: middle;\n",
              "    }\n",
              "\n",
              "    .dataframe tbody tr th {\n",
              "        vertical-align: top;\n",
              "    }\n",
              "\n",
              "    .dataframe thead th {\n",
              "        text-align: right;\n",
              "    }\n",
              "</style>\n",
              "<table border=\"1\" class=\"dataframe\">\n",
              "  <thead>\n",
              "    <tr style=\"text-align: right;\">\n",
              "      <th></th>\n",
              "      <th>0</th>\n",
              "    </tr>\n",
              "  </thead>\n",
              "  <tbody>\n",
              "    <tr>\n",
              "      <th>HHID</th>\n",
              "      <td>0.000000</td>\n",
              "    </tr>\n",
              "    <tr>\n",
              "      <th>State</th>\n",
              "      <td>0.000000</td>\n",
              "    </tr>\n",
              "    <tr>\n",
              "      <th>Sector</th>\n",
              "      <td>0.000000</td>\n",
              "    </tr>\n",
              "    <tr>\n",
              "      <th>Household_size</th>\n",
              "      <td>0.000000</td>\n",
              "    </tr>\n",
              "    <tr>\n",
              "      <th>Religion</th>\n",
              "      <td>0.003277</td>\n",
              "    </tr>\n",
              "    <tr>\n",
              "      <th>Social_group</th>\n",
              "      <td>0.000000</td>\n",
              "    </tr>\n",
              "    <tr>\n",
              "      <th>Distance_primary_school</th>\n",
              "      <td>0.000000</td>\n",
              "    </tr>\n",
              "    <tr>\n",
              "      <th>Distance_upper_school</th>\n",
              "      <td>0.000000</td>\n",
              "    </tr>\n",
              "    <tr>\n",
              "      <th>Distance_secondary_school</th>\n",
              "      <td>0.000000</td>\n",
              "    </tr>\n",
              "    <tr>\n",
              "      <th>HH_Computer</th>\n",
              "      <td>0.000000</td>\n",
              "    </tr>\n",
              "    <tr>\n",
              "      <th>Member_internet</th>\n",
              "      <td>0.000000</td>\n",
              "    </tr>\n",
              "    <tr>\n",
              "      <th>HH_Con_exp_rs</th>\n",
              "      <td>0.000000</td>\n",
              "    </tr>\n",
              "    <tr>\n",
              "      <th>Any_HH_member_3_35yrs_attnd_edu</th>\n",
              "      <td>0.000000</td>\n",
              "    </tr>\n",
              "    <tr>\n",
              "      <th>HH_Economic_Activity</th>\n",
              "      <td>0.000000</td>\n",
              "    </tr>\n",
              "    <tr>\n",
              "      <th>Per_serialno</th>\n",
              "      <td>0.000000</td>\n",
              "    </tr>\n",
              "    <tr>\n",
              "      <th>Medium_instruction</th>\n",
              "      <td>0.110778</td>\n",
              "    </tr>\n",
              "    <tr>\n",
              "      <th>Enrol_basic_course</th>\n",
              "      <td>0.000000</td>\n",
              "    </tr>\n",
              "    <tr>\n",
              "      <th>Institution_type</th>\n",
              "      <td>0.000000</td>\n",
              "    </tr>\n",
              "    <tr>\n",
              "      <th>Scholarship_stipend</th>\n",
              "      <td>0.000000</td>\n",
              "    </tr>\n",
              "    <tr>\n",
              "      <th>Taking_pvt_coaching</th>\n",
              "      <td>0.000000</td>\n",
              "    </tr>\n",
              "    <tr>\n",
              "      <th>Age</th>\n",
              "      <td>19.416222</td>\n",
              "    </tr>\n",
              "    <tr>\n",
              "      <th>Gender</th>\n",
              "      <td>19.416222</td>\n",
              "    </tr>\n",
              "    <tr>\n",
              "      <th>Edu_level_general</th>\n",
              "      <td>19.416222</td>\n",
              "    </tr>\n",
              "    <tr>\n",
              "      <th>Edu_level_technical</th>\n",
              "      <td>19.422121</td>\n",
              "    </tr>\n",
              "    <tr>\n",
              "      <th>Operate_computer_age_5yrs</th>\n",
              "      <td>20.881894</td>\n",
              "    </tr>\n",
              "    <tr>\n",
              "      <th>Operate_internet_age_5yrs</th>\n",
              "      <td>20.881894</td>\n",
              "    </tr>\n",
              "    <tr>\n",
              "      <th>Disability_crtificate</th>\n",
              "      <td>19.416222</td>\n",
              "    </tr>\n",
              "    <tr>\n",
              "      <th>Course_fee_amt</th>\n",
              "      <td>14.753733</td>\n",
              "    </tr>\n",
              "    <tr>\n",
              "      <th>Books_stationery_uniform_amt</th>\n",
              "      <td>1.294590</td>\n",
              "    </tr>\n",
              "    <tr>\n",
              "      <th>Source_funding_basic_exp</th>\n",
              "      <td>0.171738</td>\n",
              "    </tr>\n",
              "  </tbody>\n",
              "</table>\n",
              "</div><br><label><b>dtype:</b> float64</label>"
            ]
          },
          "metadata": {},
          "execution_count": 29
        }
      ]
    },
    {
      "cell_type": "markdown",
      "source": [
        "very small percentage of data is missing. we can drop it."
      ],
      "metadata": {
        "id": "YdiSGrvlJg3Z"
      }
    },
    {
      "cell_type": "code",
      "source": [
        "df.shape"
      ],
      "metadata": {
        "colab": {
          "base_uri": "https://localhost:8080/"
        },
        "id": "Al4n0rgz-ojf",
        "outputId": "da2a8cdd-4ccb-4cf7-d8cf-ffd6da1439ea"
      },
      "execution_count": null,
      "outputs": [
        {
          "output_type": "execute_result",
          "data": {
            "text/plain": [
              "(152558, 30)"
            ]
          },
          "metadata": {},
          "execution_count": 30
        }
      ]
    },
    {
      "cell_type": "markdown",
      "source": [
        "#HOUSEHOLD SIZE"
      ],
      "metadata": {
        "id": "x63ouS7nKC6u"
      }
    },
    {
      "cell_type": "code",
      "source": [
        "\n",
        "# Define function to categorize household size\n",
        "def categorize_household_size(size):\n",
        "    size = int(size)  # Convert to integer if it's not already\n",
        "    if size in [1, 2]:\n",
        "        return \"Small\"\n",
        "    elif size in [3, 4, 5]:\n",
        "        return \"Medium\"\n",
        "    elif size in [6, 7, 8]:\n",
        "        return \"Large\"\n",
        "    else:\n",
        "        return \"Very Large\"\n",
        "\n",
        "# Apply the function to create a new categorized column\n",
        "df[\"Household_size_category\"] = df[\"Household_size\"].apply(categorize_household_size)\n",
        "\n",
        "# Display the first few rows to verify\n",
        "print(df[\"Household_size_category\"].value_counts())\n"
      ],
      "metadata": {
        "colab": {
          "base_uri": "https://localhost:8080/"
        },
        "id": "Hpv8LXU4-ooT",
        "outputId": "65dd628e-4b97-4155-f80e-057b0f21f21e"
      },
      "execution_count": null,
      "outputs": [
        {
          "output_type": "stream",
          "name": "stdout",
          "text": [
            "Household_size_category\n",
            "Medium        91208\n",
            "Large         45128\n",
            "Very Large    12217\n",
            "Small          4005\n",
            "Name: count, dtype: int64\n"
          ]
        }
      ]
    },
    {
      "cell_type": "code",
      "source": [
        "df= df.drop(columns=[\"Household_size\"])\n"
      ],
      "metadata": {
        "id": "v6MEAKeyKl3X"
      },
      "execution_count": null,
      "outputs": []
    },
    {
      "cell_type": "markdown",
      "source": [
        "#household economic activity"
      ],
      "metadata": {
        "id": "VNaSge6lK-qD"
      }
    },
    {
      "cell_type": "code",
      "source": [
        "# Define function to categorize household economic activity\n",
        "def categorize_economic_activity(activity):\n",
        "    if \"Self-employed\" in activity:\n",
        "        return \"Self-employed\"\n",
        "    elif \"Regular wage/salary\" in activity:\n",
        "        return \"Regular wage/salary\"\n",
        "    elif \"Casual labour\" in activity:\n",
        "        return \"Casual labour\"\n",
        "    else:\n",
        "        return \"Others\"\n",
        "\n",
        "# Apply the function to create a new categorized column\n",
        "df[\"HH_Economic_Activity_category\"] = df[\"HH_Economic_Activity\"].apply(categorize_economic_activity)\n",
        "\n",
        "# Display the first few rows to verify\n",
        "print(df[[\"HH_Economic_Activity_category\"]].value_counts())\n"
      ],
      "metadata": {
        "colab": {
          "base_uri": "https://localhost:8080/"
        },
        "id": "ml2pw59SK9mr",
        "outputId": "b2c3656a-fb35-4305-b7bc-af0bbbb10fb1"
      },
      "execution_count": null,
      "outputs": [
        {
          "output_type": "stream",
          "name": "stdout",
          "text": [
            "HH_Economic_Activity_category\n",
            "Self-employed                    80686\n",
            "Regular wage/salary              34101\n",
            "Casual labour                    28674\n",
            "Others                            9097\n",
            "Name: count, dtype: int64\n"
          ]
        }
      ]
    },
    {
      "cell_type": "code",
      "source": [
        "df= df.drop(columns=[\"HH_Economic_Activity\"])\n"
      ],
      "metadata": {
        "id": "ZJ3naCA5Lo6x"
      },
      "execution_count": null,
      "outputs": []
    },
    {
      "cell_type": "markdown",
      "source": [
        "#religion"
      ],
      "metadata": {
        "id": "m3GK__bvLffR"
      }
    },
    {
      "cell_type": "code",
      "source": [
        "# Define the mapping for major and minor religions\n",
        "religion_mapping = {\n",
        "    1: \"Major Religion\",  # Hinduism\n",
        "    2: \"Major Religion\",  # Islam\n",
        "    3: \"Major Religion\",  # Christianity\n",
        "    4: \"Minor Religion\",  # Sikhism\n",
        "    5: \"Minor Religion\",  # Jainism\n",
        "    6: \"Minor Religion\",  # Buddhism\n",
        "    7: \"Minor Religion\",  # Zoroastrianism\n",
        "    9: \"Minor Religion\"   # Others\n",
        "}\n",
        "\n",
        "# Apply the mapping to categorize religions\n",
        "df[\"Religion_category\"] = df[\"Religion\"].map(religion_mapping)\n",
        "\n",
        "\n",
        "# Check if the categories are distributed correctly\n",
        "print(df[\"Religion_category\"].value_counts())\n"
      ],
      "metadata": {
        "colab": {
          "base_uri": "https://localhost:8080/"
        },
        "id": "oQKIjP3NLdmv",
        "outputId": "776d03cd-416b-49a5-cc28-f3a93dd9f6cc"
      },
      "execution_count": null,
      "outputs": [
        {
          "output_type": "stream",
          "name": "stdout",
          "text": [
            "Religion_category\n",
            "Major Religion    145925\n",
            "Minor Religion      6628\n",
            "Name: count, dtype: int64\n"
          ]
        }
      ]
    },
    {
      "cell_type": "code",
      "source": [
        "# Drop the original Religion column\n",
        "df=df.drop(columns=[\"Religion\"])"
      ],
      "metadata": {
        "id": "PvbNBlpOMWsZ"
      },
      "execution_count": null,
      "outputs": []
    },
    {
      "cell_type": "markdown",
      "source": [
        "#social group"
      ],
      "metadata": {
        "id": "gADgd8jkQ0LQ"
      }
    },
    {
      "cell_type": "code",
      "source": [
        "# Define the mapping (keeping original categories)\n",
        "social_group_mapping = {\n",
        "    1: \"Scheduled Tribes\",\n",
        "    2: \"Scheduled Castes\",\n",
        "    3: \"Other Backward Classes\",\n",
        "    9: \"Others\"\n",
        "}\n",
        "\n",
        "# Apply the mapping to create a new column\n",
        "df[\"Social_Group_Category\"] = df[\"Social_group\"].map(social_group_mapping)\n",
        "\n",
        "# Check the value counts\n",
        "print(df[\"Social_Group_Category\"].value_counts())\n",
        "\n"
      ],
      "metadata": {
        "colab": {
          "base_uri": "https://localhost:8080/"
        },
        "id": "W89SjOuqQ7VB",
        "outputId": "30590d39-3097-43d8-94fc-c9ad37f04793"
      },
      "execution_count": null,
      "outputs": [
        {
          "output_type": "stream",
          "name": "stdout",
          "text": [
            "Social_Group_Category\n",
            "Other Backward Classes    61762\n",
            "Others                    43985\n",
            "Scheduled Castes          25040\n",
            "Scheduled Tribes          21771\n",
            "Name: count, dtype: int64\n"
          ]
        }
      ]
    },
    {
      "cell_type": "code",
      "source": [
        "# Drop the original column\n",
        "df= df.drop(columns=[\"Social_group\"])"
      ],
      "metadata": {
        "id": "Qwo2ZuwnRHY8"
      },
      "execution_count": null,
      "outputs": []
    },
    {
      "cell_type": "markdown",
      "source": [
        "#distances"
      ],
      "metadata": {
        "id": "PfsUsXthRYhR"
      }
    },
    {
      "cell_type": "code",
      "source": [
        "# Define a function to categorize distances\n",
        "def categorize_distance(distance):\n",
        "    if distance in [1, 2]:\n",
        "        return \"Nearby\"\n",
        "    elif distance in [3, 4]:\n",
        "        return \"Moderate Distance\"\n",
        "    else:\n",
        "        return \"Far\"\n",
        "\n",
        "# Apply to each distance column\n",
        "df[\"Distance_primary_category\"] = df[\"Distance_primary_school\"].map(categorize_distance)\n",
        "df[\"Distance_upper_category\"] = df[\"Distance_upper_school\"].map(categorize_distance)\n",
        "df[\"Distance_secondary_category\"] = df[\"Distance_secondary_school\"].map(categorize_distance)\n",
        "\n"
      ],
      "metadata": {
        "id": "QB8iw9XnRafM"
      },
      "execution_count": null,
      "outputs": []
    },
    {
      "cell_type": "code",
      "source": [
        "df = df.drop(columns=[\"Distance_primary_school\",\"Distance_upper_school\",\"Distance_secondary_school\"])"
      ],
      "metadata": {
        "id": "J4EZ9IfFRr6e"
      },
      "execution_count": null,
      "outputs": []
    },
    {
      "cell_type": "markdown",
      "source": [
        "#medium instruction"
      ],
      "metadata": {
        "id": "zEY_syzBR1hL"
      }
    },
    {
      "cell_type": "code",
      "source": [
        "# Define mapping for 4 categories\n",
        "def categorize_medium(lang):\n",
        "    if lang == 1:  # Assuming values are integers, not strings\n",
        "        return \"Hindi\"\n",
        "    elif lang == 2:\n",
        "        return \"English\"\n",
        "    elif lang in [3, 4, 7, 8, 15, 17, 18, 23, 24, 25]:\n",
        "        return \"Regional\"\n",
        "    else:\n",
        "        return \"Others\"\n",
        "\n",
        "# Apply function to create new column\n",
        "df[\"Medium_instruction_grouped\"] = df[\"Medium_instruction\"].apply(categorize_medium)\n",
        "\n",
        "# Verify the mapping\n",
        "print(df[\"Medium_instruction_grouped\"].value_counts(dropna=False))\n",
        "\n"
      ],
      "metadata": {
        "id": "Uq1evMZQR4P3",
        "colab": {
          "base_uri": "https://localhost:8080/"
        },
        "outputId": "b78d54fd-8013-4ff0-aa7c-2c787e0f342a"
      },
      "execution_count": null,
      "outputs": [
        {
          "output_type": "stream",
          "name": "stdout",
          "text": [
            "Medium_instruction_grouped\n",
            "English     65940\n",
            "Hindi       48163\n",
            "Regional    35548\n",
            "Others       2907\n",
            "Name: count, dtype: int64\n"
          ]
        }
      ]
    },
    {
      "cell_type": "code",
      "source": [
        "df=df.drop(columns=[\"Medium_instruction\"])"
      ],
      "metadata": {
        "id": "c-Z6I0Z6SBIj"
      },
      "execution_count": null,
      "outputs": []
    },
    {
      "cell_type": "markdown",
      "source": [
        "#Enrol_basic_course\tlevel of current enrolment in the basic course"
      ],
      "metadata": {
        "id": "ZqexYlh8SHTY"
      }
    },
    {
      "cell_type": "code",
      "source": [
        "# Define mapping function\n",
        "def categorize_education(level):\n",
        "    if level in [3.0, 4.0, 5.0]:\n",
        "        return \"Non-formal Education\"\n",
        "    elif level in [6.0, 7.0]:\n",
        "        return \"Pre-primary & Primary\"\n",
        "    elif level in [8.0, 10.0, 11.0]:\n",
        "        return \"Upper Primary & Secondary\"\n",
        "    elif level in [12.0, 13.0, 14.0]:\n",
        "        return \"Diploma/Certificate\"\n",
        "    elif level in [15.0, 16.0]:\n",
        "        return \"Higher Education\"\n",
        "    else:\n",
        "        return \"Unknown\"\n",
        "\n",
        "# Apply function to create new column\n",
        "df[\"Enrol_basic_course_grouped\"] = df[\"Enrol_basic_course\"].apply(categorize_education)\n",
        "\n",
        "# Verify the mapping\n",
        "print(df[\"Enrol_basic_course_grouped\"].value_counts(dropna=False))\n",
        "\n"
      ],
      "metadata": {
        "id": "Ty8e6yIoSMBj",
        "colab": {
          "base_uri": "https://localhost:8080/"
        },
        "outputId": "59fbc85b-2a99-4e36-e501-54952f47f0a0"
      },
      "execution_count": null,
      "outputs": [
        {
          "output_type": "stream",
          "name": "stdout",
          "text": [
            "Enrol_basic_course_grouped\n",
            "Upper Primary & Secondary    59665\n",
            "Pre-primary & Primary        49392\n",
            "Higher Education             26625\n",
            "Diploma/Certificate          16876\n",
            "Name: count, dtype: int64\n"
          ]
        }
      ]
    },
    {
      "cell_type": "code",
      "source": [
        "df = df.drop(columns=[\"Enrol_basic_course\"])"
      ],
      "metadata": {
        "id": "A49NQ039SR1n"
      },
      "execution_count": null,
      "outputs": []
    },
    {
      "cell_type": "markdown",
      "source": [
        "#general and technical education level\n"
      ],
      "metadata": {
        "id": "1VQ0j9LTScIZ"
      }
    },
    {
      "cell_type": "code",
      "source": [
        "import pandas as pd\n",
        "\n",
        "# Creating new broad categories for General Education\n",
        "edu_general_broad = {\n",
        "    1: \"Low Education\",\n",
        "    2: \"Low Education\",\n",
        "    3: \"Low Education\",\n",
        "    4: \"Low Education\",\n",
        "    5: \"Low Education\",\n",
        "    6: \"Low Education\",\n",
        "    7: \"Basic Education\",\n",
        "    8: \"Basic Education\",\n",
        "    10: \"Secondary Education\",\n",
        "    11: \"Secondary Education\",\n",
        "    12: \"Diploma Holders\",\n",
        "    13: \"Diploma Holders\",\n",
        "    14: \"Diploma Holders\",\n",
        "    15: \"Higher Education\",\n",
        "    16: \"Higher Education\"\n",
        "}\n",
        "\n",
        "# Creating new broad categories for Technical Education\n",
        "technical_edu_map = {\n",
        "    1: \"No Technical Education\",\n",
        "    2: \"Technical Diploma & Degree\", 3: \"Technical Diploma & Degree\", 4: \"Technical Diploma & Degree\", 5: \"Technical Diploma & Degree\", 6: \"Technical Diploma & Degree\",\n",
        "    7: \"Technical Diploma & Degree\", 8: \"Technical Diploma & Degree\", 9: \"Technical Diploma & Degree\", 10: \"Technical Diploma & Degree\", 11: \"Technical Diploma & Degree\",\n",
        "    12: \"Technical Diploma & Degree\", 13: \"Technical Diploma & Degree\", 14: \"Technical Diploma & Degree\", 15: \"Technical Diploma & Degree\", 16: \"Technical Diploma & Degree\"\n",
        "}\n",
        "\n",
        "# Sample DataFrame (Replace with actual DataFrame)\n",
        "df['Edu_level_general_category'] = df['Edu_level_general'].map(edu_general_broad)\n",
        "df['Edu_level_technical_category'] = df['Edu_level_technical'].map(technical_edu_map)\n",
        "\n",
        "print(df[\"Edu_level_general_category\"].value_counts())\n",
        "print(df[\"Edu_level_technical_category\"].value_counts())\n"
      ],
      "metadata": {
        "colab": {
          "base_uri": "https://localhost:8080/"
        },
        "id": "UZomxFCBUK44",
        "outputId": "c07e4b7a-5199-440c-9eca-bfc536cf26fe"
      },
      "execution_count": null,
      "outputs": [
        {
          "output_type": "stream",
          "name": "stdout",
          "text": [
            "Edu_level_general_category\n",
            "Low Education          41114\n",
            "Basic Education        38110\n",
            "Secondary Education    35417\n",
            "Higher Education        6858\n",
            "Diploma Holders         1438\n",
            "Name: count, dtype: int64\n",
            "Edu_level_technical_category\n",
            "No Technical Education        117904\n",
            "Technical Diploma & Degree      5024\n",
            "Name: count, dtype: int64\n"
          ]
        }
      ]
    },
    {
      "cell_type": "code",
      "source": [
        "df = df.drop(columns=[\"Edu_level_general\",\"Edu_level_technical\"])"
      ],
      "metadata": {
        "id": "E19x6pl9Vjtl"
      },
      "execution_count": null,
      "outputs": []
    },
    {
      "cell_type": "markdown",
      "source": [
        "#institution type"
      ],
      "metadata": {
        "id": "6pBIHQuTW8oU"
      }
    },
    {
      "cell_type": "code",
      "source": [
        "# Define mapping for institution type\n",
        "institution_map = {\n",
        "    1: \"Government\",\n",
        "    2: \"Private Aided\",\n",
        "    3: \"Private Unaided\",\n",
        "    4: \"Not Known\"\n",
        "}\n",
        "\n",
        "# Apply the mapping\n",
        "df['Institution_category'] = df['Institution_type'].map(institution_map)\n"
      ],
      "metadata": {
        "id": "-vSlgaAYVxd9"
      },
      "execution_count": null,
      "outputs": []
    },
    {
      "cell_type": "code",
      "source": [
        "df=df.drop(columns=[\"Institution_type\"])"
      ],
      "metadata": {
        "id": "UyJqhT_BXBRy"
      },
      "execution_count": null,
      "outputs": []
    },
    {
      "cell_type": "markdown",
      "source": [
        "#state\n",
        "\n",
        "\n",
        "Major Categories:\n",
        "North – Jammu & Kashmir, Himachal Pradesh, Punjab, Chandigarh, Uttarakhand, Haryana, Delhi, Rajasthan\n",
        "Central – Uttar Pradesh, Madhya Pradesh, Chhattisgarh\n",
        "\n",
        "\n",
        "East – Bihar, Jharkhand, Odisha, West Bengal\n",
        "\n",
        "\n",
        "Northeast – Sikkim, Arunachal Pradesh, Nagaland, Manipur, Mizoram, Tripura, Meghalaya, Assam\n",
        "\n",
        "\n",
        "West – Gujarat, Maharashtra, Goa, Daman & Diu, Dadra & Nagar Haveli\n",
        "\n",
        "\n",
        "South – Andhra Pradesh, Karnataka, Kerala, Tamil Nadu, Telangana, Puducherry, Lakshadweep, Andaman & Nicobar"
      ],
      "metadata": {
        "id": "BP68LPeWYBxI"
      }
    },
    {
      "cell_type": "code",
      "source": [
        "# Convert State to string for mapping\n",
        "df[\"State\"] = df[\"State\"].astype(str)\n",
        "\n",
        "# Define State to Region mapping\n",
        "state_mapping = {\n",
        "    \"01\": \"North\", \"02\": \"North\", \"03\": \"North\", \"04\": \"North\", \"05\": \"North\",\n",
        "    \"06\": \"North\", \"07\": \"North\", \"08\": \"North\", \"09\": \"North\", \"10\": \"East\",\n",
        "    \"11\": \"East\", \"12\": \"East\", \"13\": \"East\", \"14\": \"East\", \"15\": \"East\",\n",
        "    \"16\": \"East\", \"17\": \"East\", \"18\": \"East\", \"19\": \"East\", \"20\": \"East\",\n",
        "    \"21\": \"East\", \"22\": \"Central\", \"23\": \"Central\", \"24\": \"West\", \"25\": \"West\",\n",
        "    \"26\": \"West\", \"27\": \"West\", \"28\": \"South\", \"29\": \"South\", \"30\": \"South\",\n",
        "    \"31\": \"South\", \"32\": \"South\", \"33\": \"South\", \"34\": \"South\", \"35\": \"South\",\n",
        "    \"36\": \"South\"\n",
        "}\n",
        "\n",
        "df[\"State\"] = df[\"State\"].astype(str).str.zfill(2)\n",
        "\n",
        "# Apply mapping\n",
        "df[\"State_Category\"] = df[\"State\"].map(state_mapping)\n",
        "\n",
        "# Verify if it worked\n",
        "print(df[\"State_Category\"].value_counts(dropna=False))\n",
        "\n"
      ],
      "metadata": {
        "colab": {
          "base_uri": "https://localhost:8080/"
        },
        "id": "J-C0HnGzYAvi",
        "outputId": "8e12ddb6-8d56-4f30-ea36-997f29c5b586"
      },
      "execution_count": null,
      "outputs": [
        {
          "output_type": "stream",
          "name": "stdout",
          "text": [
            "State_Category\n",
            "East       46126\n",
            "North      45722\n",
            "South      31112\n",
            "West       17551\n",
            "Central    12047\n",
            "Name: count, dtype: int64\n"
          ]
        }
      ]
    },
    {
      "cell_type": "code",
      "source": [
        "df=df.drop(columns=[\"State\"])"
      ],
      "metadata": {
        "id": "37FyhVO6ZQ9m"
      },
      "execution_count": null,
      "outputs": []
    },
    {
      "cell_type": "markdown",
      "source": [
        "#sector\n",
        "\n",
        "1:rural\n",
        "2:urban"
      ],
      "metadata": {
        "id": "xTvIXxJ5XNd1"
      }
    },
    {
      "cell_type": "code",
      "source": [
        "df[\"Sector\"].value_counts()"
      ],
      "metadata": {
        "colab": {
          "base_uri": "https://localhost:8080/",
          "height": 178
        },
        "id": "IX2J5pYpXPpZ",
        "outputId": "fc46d4eb-a1f1-4e8f-ec43-edc5c2a74eff"
      },
      "execution_count": null,
      "outputs": [
        {
          "output_type": "execute_result",
          "data": {
            "text/plain": [
              "Sector\n",
              "1    88959\n",
              "2    63599\n",
              "Name: count, dtype: int64"
            ],
            "text/html": [
              "<div>\n",
              "<style scoped>\n",
              "    .dataframe tbody tr th:only-of-type {\n",
              "        vertical-align: middle;\n",
              "    }\n",
              "\n",
              "    .dataframe tbody tr th {\n",
              "        vertical-align: top;\n",
              "    }\n",
              "\n",
              "    .dataframe thead th {\n",
              "        text-align: right;\n",
              "    }\n",
              "</style>\n",
              "<table border=\"1\" class=\"dataframe\">\n",
              "  <thead>\n",
              "    <tr style=\"text-align: right;\">\n",
              "      <th></th>\n",
              "      <th>count</th>\n",
              "    </tr>\n",
              "    <tr>\n",
              "      <th>Sector</th>\n",
              "      <th></th>\n",
              "    </tr>\n",
              "  </thead>\n",
              "  <tbody>\n",
              "    <tr>\n",
              "      <th>1</th>\n",
              "      <td>88959</td>\n",
              "    </tr>\n",
              "    <tr>\n",
              "      <th>2</th>\n",
              "      <td>63599</td>\n",
              "    </tr>\n",
              "  </tbody>\n",
              "</table>\n",
              "</div><br><label><b>dtype:</b> int64</label>"
            ]
          },
          "metadata": {},
          "execution_count": 51
        }
      ]
    },
    {
      "cell_type": "markdown",
      "source": [
        "#gender\n",
        "\n",
        "1:male,2:female,3:trans"
      ],
      "metadata": {
        "id": "lIb0B4k9Xf55"
      }
    },
    {
      "cell_type": "markdown",
      "source": [
        "#SOURCE OF FUNDING FOR BASIC EXPENDITURE"
      ],
      "metadata": {
        "id": "PPoUlsMh1ANW"
      }
    },
    {
      "cell_type": "code",
      "source": [
        "# Step 1: Convert to string and clean\n",
        "df['Source_funding_basic_exp'] = df['Source_funding_basic_exp'].fillna('00').astype(str).str.replace('.0', '').str.strip()\n",
        "\n",
        "# Step 2: Ensure 2-digit format\n",
        "df['Source_funding_basic_exp'] = df['Source_funding_basic_exp'].str.zfill(2)\n",
        "\n",
        "# Step 3: Define mapping (updated with your requirements)\n",
        "funding_mapping = {\n",
        "    '01': 'Student Earnings',\n",
        "    '02': 'Household Members',\n",
        "    '03': 'Household Members',\n",
        "    '04': 'Other',\n",
        "    '05': 'Scholarship',\n",
        "    '06': 'Scholarship',\n",
        "    '07': 'Scholarship',\n",
        "    '08': 'Loan',\n",
        "    '10': 'Loan',\n",
        "    '19': 'Other',\n",
        "    '00': 'Unknown'  # For previously NA values\n",
        "}\n",
        "\n",
        "# Step 4: Apply mapping\n",
        "df['Funding_Category'] = df['Source_funding_basic_exp'].map(funding_mapping)\n",
        "\n",
        "# Step 5: Verify\n",
        "print(\"Value counts after cleaning:\")\n",
        "print(df['Funding_Category'].value_counts(dropna=False))\n",
        "\n",
        "print(\"\\nSample of unmapped values (if any):\")\n",
        "unmapped = df[~df['Source_funding_basic_exp'].isin(funding_mapping.keys())]\n",
        "print(unmapped['Source_funding_basic_exp'].unique())"
      ],
      "metadata": {
        "colab": {
          "base_uri": "https://localhost:8080/"
        },
        "id": "HI6BFQ811EVc",
        "outputId": "5f6570f6-39d3-4ac1-810f-81c3570602fa"
      },
      "execution_count": null,
      "outputs": [
        {
          "output_type": "stream",
          "name": "stdout",
          "text": [
            "Value counts after cleaning:\n",
            "Funding_Category\n",
            "Household Members    143425\n",
            "Other                  2474\n",
            "Scholarship            2431\n",
            "Student Earnings       2014\n",
            "Loan                   1952\n",
            "Unknown                 262\n",
            "Name: count, dtype: int64\n",
            "\n",
            "Sample of unmapped values (if any):\n",
            "[]\n"
          ]
        }
      ]
    },
    {
      "cell_type": "code",
      "source": [
        "df=df.drop(columns=[\"Source_funding_basic_exp\"])"
      ],
      "metadata": {
        "id": "QOBhu32L4krq"
      },
      "execution_count": null,
      "outputs": []
    },
    {
      "cell_type": "code",
      "source": [
        "df[\"Gender\"].value_counts()"
      ],
      "metadata": {
        "colab": {
          "base_uri": "https://localhost:8080/",
          "height": 209
        },
        "id": "Z294KcUhXinv",
        "outputId": "96e55c3a-9566-4edf-cfac-2bc80a23625a"
      },
      "execution_count": null,
      "outputs": [
        {
          "output_type": "execute_result",
          "data": {
            "text/plain": [
              "Gender\n",
              "1.0    70706\n",
              "2.0    52225\n",
              "3.0        6\n",
              "Name: count, dtype: int64"
            ],
            "text/html": [
              "<div>\n",
              "<style scoped>\n",
              "    .dataframe tbody tr th:only-of-type {\n",
              "        vertical-align: middle;\n",
              "    }\n",
              "\n",
              "    .dataframe tbody tr th {\n",
              "        vertical-align: top;\n",
              "    }\n",
              "\n",
              "    .dataframe thead th {\n",
              "        text-align: right;\n",
              "    }\n",
              "</style>\n",
              "<table border=\"1\" class=\"dataframe\">\n",
              "  <thead>\n",
              "    <tr style=\"text-align: right;\">\n",
              "      <th></th>\n",
              "      <th>count</th>\n",
              "    </tr>\n",
              "    <tr>\n",
              "      <th>Gender</th>\n",
              "      <th></th>\n",
              "    </tr>\n",
              "  </thead>\n",
              "  <tbody>\n",
              "    <tr>\n",
              "      <th>1.0</th>\n",
              "      <td>70706</td>\n",
              "    </tr>\n",
              "    <tr>\n",
              "      <th>2.0</th>\n",
              "      <td>52225</td>\n",
              "    </tr>\n",
              "    <tr>\n",
              "      <th>3.0</th>\n",
              "      <td>6</td>\n",
              "    </tr>\n",
              "  </tbody>\n",
              "</table>\n",
              "</div><br><label><b>dtype:</b> int64</label>"
            ]
          },
          "metadata": {},
          "execution_count": 54
        }
      ]
    },
    {
      "cell_type": "code",
      "source": [
        "df = df[df['Gender'] != 3.0]"
      ],
      "metadata": {
        "id": "et3dG8UoIIo7"
      },
      "execution_count": null,
      "outputs": []
    },
    {
      "cell_type": "markdown",
      "source": [
        "#fix encoding for the binary categorical variables"
      ],
      "metadata": {
        "id": "EBfN5D_cciSi"
      }
    },
    {
      "cell_type": "code",
      "source": [
        "# List of binary categorical variables\n",
        "binary_vars = [\n",
        "    'HH_Computer', 'Member_internet', 'Any_HH_member_3_35yrs_attnd_edu',\n",
        "    'Scholarship_stipend', 'Taking_pvt_coaching', 'Operate_computer_age_5yrs',\n",
        "    'Operate_internet_age_5yrs', 'Disability_crtificate'\n",
        "]\n",
        "\n",
        "# Convert 1 → 1 (Yes), 2 → 0 (No)\n",
        "df[binary_vars] = df[binary_vars].replace({1: 1, 2: 0})\n"
      ],
      "metadata": {
        "id": "Ui-L8zYacoCp"
      },
      "execution_count": null,
      "outputs": []
    },
    {
      "cell_type": "code",
      "source": [
        "df.info()"
      ],
      "metadata": {
        "colab": {
          "base_uri": "https://localhost:8080/"
        },
        "id": "nBkwxadtcqio",
        "outputId": "2d9e6b4f-e07f-4f8b-cb83-17730bcc8f0f"
      },
      "execution_count": null,
      "outputs": [
        {
          "output_type": "stream",
          "name": "stdout",
          "text": [
            "<class 'pandas.core.frame.DataFrame'>\n",
            "Index: 152552 entries, 0 to 181501\n",
            "Data columns (total 30 columns):\n",
            " #   Column                           Non-Null Count   Dtype  \n",
            "---  ------                           --------------   -----  \n",
            " 0   HHID                             152552 non-null  int64  \n",
            " 1   Sector                           152552 non-null  int64  \n",
            " 2   HH_Computer                      152552 non-null  int64  \n",
            " 3   Member_internet                  152552 non-null  int64  \n",
            " 4   HH_Con_exp_rs                    152552 non-null  int64  \n",
            " 5   Any_HH_member_3_35yrs_attnd_edu  152552 non-null  int64  \n",
            " 6   Per_serialno                     152552 non-null  float64\n",
            " 7   Scholarship_stipend              152552 non-null  float64\n",
            " 8   Taking_pvt_coaching              152552 non-null  float64\n",
            " 9   Age                              122931 non-null  float64\n",
            " 10  Gender                           122931 non-null  float64\n",
            " 11  Operate_computer_age_5yrs        120695 non-null  float64\n",
            " 12  Operate_internet_age_5yrs        120695 non-null  float64\n",
            " 13  Disability_crtificate            122931 non-null  float64\n",
            " 14  Course_fee_amt                   130046 non-null  float64\n",
            " 15  Books_stationery_uniform_amt     150577 non-null  float64\n",
            " 16  Household_size_category          152552 non-null  object \n",
            " 17  HH_Economic_Activity_category    152552 non-null  object \n",
            " 18  Religion_category                152547 non-null  object \n",
            " 19  Social_Group_Category            152552 non-null  object \n",
            " 20  Distance_primary_category        152552 non-null  object \n",
            " 21  Distance_upper_category          152552 non-null  object \n",
            " 22  Distance_secondary_category      152552 non-null  object \n",
            " 23  Medium_instruction_grouped       152552 non-null  object \n",
            " 24  Enrol_basic_course_grouped       152552 non-null  object \n",
            " 25  Edu_level_general_category       122931 non-null  object \n",
            " 26  Edu_level_technical_category     122922 non-null  object \n",
            " 27  Institution_category             152552 non-null  object \n",
            " 28  State_Category                   152552 non-null  object \n",
            " 29  Funding_Category                 152552 non-null  object \n",
            "dtypes: float64(10), int64(6), object(14)\n",
            "memory usage: 36.1+ MB\n"
          ]
        }
      ]
    },
    {
      "cell_type": "code",
      "source": [
        "# List of categorical columns\n",
        "categorical_cols = [\n",
        "    'HH_Computer', 'Member_internet', 'Any_HH_member_3_35yrs_attnd_edu',\n",
        "    'Scholarship_stipend', 'Taking_pvt_coaching', 'Operate_computer_age_5yrs',\n",
        "    'Operate_internet_age_5yrs', 'Disability_crtificate',\n",
        "    'Household_size_category', 'HH_Economic_Activity_category', 'Religion_category',\n",
        "    'Social_Group_Category', 'Distance_primary_category', 'Distance_upper_category',\n",
        "    'Distance_secondary_category', 'Medium_instruction_grouped', 'Enrol_basic_course_grouped',\n",
        "    'Edu_level_general_category', 'Edu_level_technical_category', 'Institution_category',\"Sector\",\"Gender\"\n",
        "]\n",
        "\n",
        "# Convert all to categorical\n",
        "df[categorical_cols] = df[categorical_cols].astype('category')\n",
        "\n",
        "\n",
        "# Verify the changes\n",
        "df.info()\n"
      ],
      "metadata": {
        "colab": {
          "base_uri": "https://localhost:8080/"
        },
        "id": "AK5Jmaqaddbn",
        "outputId": "d3423e27-7b6e-44fd-c390-fbbf2b0e8dd2"
      },
      "execution_count": null,
      "outputs": [
        {
          "output_type": "stream",
          "name": "stdout",
          "text": [
            "<class 'pandas.core.frame.DataFrame'>\n",
            "Index: 152552 entries, 0 to 181501\n",
            "Data columns (total 30 columns):\n",
            " #   Column                           Non-Null Count   Dtype   \n",
            "---  ------                           --------------   -----   \n",
            " 0   HHID                             152552 non-null  int64   \n",
            " 1   Sector                           152552 non-null  category\n",
            " 2   HH_Computer                      152552 non-null  category\n",
            " 3   Member_internet                  152552 non-null  category\n",
            " 4   HH_Con_exp_rs                    152552 non-null  int64   \n",
            " 5   Any_HH_member_3_35yrs_attnd_edu  152552 non-null  category\n",
            " 6   Per_serialno                     152552 non-null  float64 \n",
            " 7   Scholarship_stipend              152552 non-null  category\n",
            " 8   Taking_pvt_coaching              152552 non-null  category\n",
            " 9   Age                              122931 non-null  float64 \n",
            " 10  Gender                           122931 non-null  category\n",
            " 11  Operate_computer_age_5yrs        120695 non-null  category\n",
            " 12  Operate_internet_age_5yrs        120695 non-null  category\n",
            " 13  Disability_crtificate            122931 non-null  category\n",
            " 14  Course_fee_amt                   130046 non-null  float64 \n",
            " 15  Books_stationery_uniform_amt     150577 non-null  float64 \n",
            " 16  Household_size_category          152552 non-null  category\n",
            " 17  HH_Economic_Activity_category    152552 non-null  category\n",
            " 18  Religion_category                152547 non-null  category\n",
            " 19  Social_Group_Category            152552 non-null  category\n",
            " 20  Distance_primary_category        152552 non-null  category\n",
            " 21  Distance_upper_category          152552 non-null  category\n",
            " 22  Distance_secondary_category      152552 non-null  category\n",
            " 23  Medium_instruction_grouped       152552 non-null  category\n",
            " 24  Enrol_basic_course_grouped       152552 non-null  category\n",
            " 25  Edu_level_general_category       122931 non-null  category\n",
            " 26  Edu_level_technical_category     122922 non-null  category\n",
            " 27  Institution_category             152552 non-null  category\n",
            " 28  State_Category                   152552 non-null  object  \n",
            " 29  Funding_Category                 152552 non-null  object  \n",
            "dtypes: category(22), float64(4), int64(2), object(2)\n",
            "memory usage: 13.7+ MB\n"
          ]
        }
      ]
    },
    {
      "cell_type": "code",
      "source": [
        "df[\"Taking_pvt_coaching\"].value_counts(normalize=True)*100"
      ],
      "metadata": {
        "colab": {
          "base_uri": "https://localhost:8080/",
          "height": 178
        },
        "id": "t34Erf6geYW7",
        "outputId": "e70a47a5-531f-4be4-ce71-ccf5fea4138f"
      },
      "execution_count": null,
      "outputs": [
        {
          "output_type": "execute_result",
          "data": {
            "text/plain": [
              "Taking_pvt_coaching\n",
              "0.0    82.020557\n",
              "1.0    17.979443\n",
              "Name: proportion, dtype: float64"
            ],
            "text/html": [
              "<div>\n",
              "<style scoped>\n",
              "    .dataframe tbody tr th:only-of-type {\n",
              "        vertical-align: middle;\n",
              "    }\n",
              "\n",
              "    .dataframe tbody tr th {\n",
              "        vertical-align: top;\n",
              "    }\n",
              "\n",
              "    .dataframe thead th {\n",
              "        text-align: right;\n",
              "    }\n",
              "</style>\n",
              "<table border=\"1\" class=\"dataframe\">\n",
              "  <thead>\n",
              "    <tr style=\"text-align: right;\">\n",
              "      <th></th>\n",
              "      <th>proportion</th>\n",
              "    </tr>\n",
              "    <tr>\n",
              "      <th>Taking_pvt_coaching</th>\n",
              "      <th></th>\n",
              "    </tr>\n",
              "  </thead>\n",
              "  <tbody>\n",
              "    <tr>\n",
              "      <th>0.0</th>\n",
              "      <td>82.020557</td>\n",
              "    </tr>\n",
              "    <tr>\n",
              "      <th>1.0</th>\n",
              "      <td>17.979443</td>\n",
              "    </tr>\n",
              "  </tbody>\n",
              "</table>\n",
              "</div><br><label><b>dtype:</b> float64</label>"
            ]
          },
          "metadata": {},
          "execution_count": 59
        }
      ]
    },
    {
      "cell_type": "markdown",
      "source": [
        "#class imbalance is present"
      ],
      "metadata": {
        "id": "wXLxFjn_fenQ"
      }
    },
    {
      "cell_type": "code",
      "source": [
        "# Define the new column order\n",
        "new_order = [\"HHID\", \"Per_serialno\"] + [col for col in df.columns if col not in [\"HHID\", \"Per_serialno\", \"Taking_pvt_coaching\"]] + [\"Taking_pvt_coaching\"]\n",
        "\n",
        "# Reorder the dataframe\n",
        "df = df[new_order]\n"
      ],
      "metadata": {
        "id": "N23GaidSUfzO"
      },
      "execution_count": null,
      "outputs": []
    },
    {
      "cell_type": "code",
      "source": [
        "df.info()"
      ],
      "metadata": {
        "colab": {
          "base_uri": "https://localhost:8080/"
        },
        "id": "H6sL_BsE4wlR",
        "outputId": "7a5f8c52-742e-42f0-cf4a-6e1d747e42c9"
      },
      "execution_count": null,
      "outputs": [
        {
          "output_type": "stream",
          "name": "stdout",
          "text": [
            "<class 'pandas.core.frame.DataFrame'>\n",
            "Index: 152552 entries, 0 to 181501\n",
            "Data columns (total 30 columns):\n",
            " #   Column                           Non-Null Count   Dtype   \n",
            "---  ------                           --------------   -----   \n",
            " 0   HHID                             152552 non-null  int64   \n",
            " 1   Per_serialno                     152552 non-null  float64 \n",
            " 2   Sector                           152552 non-null  category\n",
            " 3   HH_Computer                      152552 non-null  category\n",
            " 4   Member_internet                  152552 non-null  category\n",
            " 5   HH_Con_exp_rs                    152552 non-null  int64   \n",
            " 6   Any_HH_member_3_35yrs_attnd_edu  152552 non-null  category\n",
            " 7   Scholarship_stipend              152552 non-null  category\n",
            " 8   Age                              122931 non-null  float64 \n",
            " 9   Gender                           122931 non-null  category\n",
            " 10  Operate_computer_age_5yrs        120695 non-null  category\n",
            " 11  Operate_internet_age_5yrs        120695 non-null  category\n",
            " 12  Disability_crtificate            122931 non-null  category\n",
            " 13  Course_fee_amt                   130046 non-null  float64 \n",
            " 14  Books_stationery_uniform_amt     150577 non-null  float64 \n",
            " 15  Household_size_category          152552 non-null  category\n",
            " 16  HH_Economic_Activity_category    152552 non-null  category\n",
            " 17  Religion_category                152547 non-null  category\n",
            " 18  Social_Group_Category            152552 non-null  category\n",
            " 19  Distance_primary_category        152552 non-null  category\n",
            " 20  Distance_upper_category          152552 non-null  category\n",
            " 21  Distance_secondary_category      152552 non-null  category\n",
            " 22  Medium_instruction_grouped       152552 non-null  category\n",
            " 23  Enrol_basic_course_grouped       152552 non-null  category\n",
            " 24  Edu_level_general_category       122931 non-null  category\n",
            " 25  Edu_level_technical_category     122922 non-null  category\n",
            " 26  Institution_category             152552 non-null  category\n",
            " 27  State_Category                   152552 non-null  object  \n",
            " 28  Funding_Category                 152552 non-null  object  \n",
            " 29  Taking_pvt_coaching              152552 non-null  category\n",
            "dtypes: category(22), float64(4), int64(2), object(2)\n",
            "memory usage: 13.7+ MB\n"
          ]
        }
      ]
    },
    {
      "cell_type": "code",
      "source": [
        "df.head()"
      ],
      "metadata": {
        "colab": {
          "base_uri": "https://localhost:8080/",
          "height": 342
        },
        "id": "4pJCuZMsUhYD",
        "outputId": "05ce6377-d930-452e-cd92-c75cdc598e0e"
      },
      "execution_count": null,
      "outputs": [
        {
          "output_type": "execute_result",
          "data": {
            "text/plain": [
              "        HHID  Per_serialno Sector HH_Computer Member_internet  HH_Con_exp_rs  \\\n",
              "0  344431301           5.0      1           0               0          10500   \n",
              "1  344431302           3.0      1           0               0           7500   \n",
              "2  344431302           4.0      1           0               0           7500   \n",
              "3  344431303           3.0      1           0               0           6500   \n",
              "5  344432301           3.0      1           0               0           4000   \n",
              "\n",
              "  Any_HH_member_3_35yrs_attnd_edu Scholarship_stipend   Age Gender  ...  \\\n",
              "0                               0                 0.0  10.0    2.0  ...   \n",
              "1                               0                 0.0  19.0    1.0  ...   \n",
              "2                               0                 0.0  10.0    2.0  ...   \n",
              "3                               0                 0.0  10.0    1.0  ...   \n",
              "5                               0                 0.0  10.0    1.0  ...   \n",
              "\n",
              "  Distance_upper_category Distance_secondary_category  \\\n",
              "0                  Nearby           Moderate Distance   \n",
              "1                  Nearby           Moderate Distance   \n",
              "2                  Nearby           Moderate Distance   \n",
              "3                  Nearby           Moderate Distance   \n",
              "5                  Nearby           Moderate Distance   \n",
              "\n",
              "  Medium_instruction_grouped  Enrol_basic_course_grouped  \\\n",
              "0                    English       Pre-primary & Primary   \n",
              "1                    English            Higher Education   \n",
              "2                    English       Pre-primary & Primary   \n",
              "3                    English       Pre-primary & Primary   \n",
              "5                    English       Pre-primary & Primary   \n",
              "\n",
              "   Edu_level_general_category Edu_level_technical_category  \\\n",
              "0               Low Education       No Technical Education   \n",
              "1         Secondary Education       No Technical Education   \n",
              "2               Low Education       No Technical Education   \n",
              "3               Low Education       No Technical Education   \n",
              "5               Low Education       No Technical Education   \n",
              "\n",
              "  Institution_category State_Category   Funding_Category Taking_pvt_coaching  \n",
              "0           Government          North  Household Members                 0.0  \n",
              "1           Government          North  Household Members                 0.0  \n",
              "2           Government          North  Household Members                 0.0  \n",
              "3           Government          North  Household Members                 0.0  \n",
              "5           Government          North  Household Members                 0.0  \n",
              "\n",
              "[5 rows x 30 columns]"
            ],
            "text/html": [
              "\n",
              "  <div id=\"df-a600124c-a0cc-46d5-879d-d1c86a3e5e06\" class=\"colab-df-container\">\n",
              "    <div>\n",
              "<style scoped>\n",
              "    .dataframe tbody tr th:only-of-type {\n",
              "        vertical-align: middle;\n",
              "    }\n",
              "\n",
              "    .dataframe tbody tr th {\n",
              "        vertical-align: top;\n",
              "    }\n",
              "\n",
              "    .dataframe thead th {\n",
              "        text-align: right;\n",
              "    }\n",
              "</style>\n",
              "<table border=\"1\" class=\"dataframe\">\n",
              "  <thead>\n",
              "    <tr style=\"text-align: right;\">\n",
              "      <th></th>\n",
              "      <th>HHID</th>\n",
              "      <th>Per_serialno</th>\n",
              "      <th>Sector</th>\n",
              "      <th>HH_Computer</th>\n",
              "      <th>Member_internet</th>\n",
              "      <th>HH_Con_exp_rs</th>\n",
              "      <th>Any_HH_member_3_35yrs_attnd_edu</th>\n",
              "      <th>Scholarship_stipend</th>\n",
              "      <th>Age</th>\n",
              "      <th>Gender</th>\n",
              "      <th>...</th>\n",
              "      <th>Distance_upper_category</th>\n",
              "      <th>Distance_secondary_category</th>\n",
              "      <th>Medium_instruction_grouped</th>\n",
              "      <th>Enrol_basic_course_grouped</th>\n",
              "      <th>Edu_level_general_category</th>\n",
              "      <th>Edu_level_technical_category</th>\n",
              "      <th>Institution_category</th>\n",
              "      <th>State_Category</th>\n",
              "      <th>Funding_Category</th>\n",
              "      <th>Taking_pvt_coaching</th>\n",
              "    </tr>\n",
              "  </thead>\n",
              "  <tbody>\n",
              "    <tr>\n",
              "      <th>0</th>\n",
              "      <td>344431301</td>\n",
              "      <td>5.0</td>\n",
              "      <td>1</td>\n",
              "      <td>0</td>\n",
              "      <td>0</td>\n",
              "      <td>10500</td>\n",
              "      <td>0</td>\n",
              "      <td>0.0</td>\n",
              "      <td>10.0</td>\n",
              "      <td>2.0</td>\n",
              "      <td>...</td>\n",
              "      <td>Nearby</td>\n",
              "      <td>Moderate Distance</td>\n",
              "      <td>English</td>\n",
              "      <td>Pre-primary &amp; Primary</td>\n",
              "      <td>Low Education</td>\n",
              "      <td>No Technical Education</td>\n",
              "      <td>Government</td>\n",
              "      <td>North</td>\n",
              "      <td>Household Members</td>\n",
              "      <td>0.0</td>\n",
              "    </tr>\n",
              "    <tr>\n",
              "      <th>1</th>\n",
              "      <td>344431302</td>\n",
              "      <td>3.0</td>\n",
              "      <td>1</td>\n",
              "      <td>0</td>\n",
              "      <td>0</td>\n",
              "      <td>7500</td>\n",
              "      <td>0</td>\n",
              "      <td>0.0</td>\n",
              "      <td>19.0</td>\n",
              "      <td>1.0</td>\n",
              "      <td>...</td>\n",
              "      <td>Nearby</td>\n",
              "      <td>Moderate Distance</td>\n",
              "      <td>English</td>\n",
              "      <td>Higher Education</td>\n",
              "      <td>Secondary Education</td>\n",
              "      <td>No Technical Education</td>\n",
              "      <td>Government</td>\n",
              "      <td>North</td>\n",
              "      <td>Household Members</td>\n",
              "      <td>0.0</td>\n",
              "    </tr>\n",
              "    <tr>\n",
              "      <th>2</th>\n",
              "      <td>344431302</td>\n",
              "      <td>4.0</td>\n",
              "      <td>1</td>\n",
              "      <td>0</td>\n",
              "      <td>0</td>\n",
              "      <td>7500</td>\n",
              "      <td>0</td>\n",
              "      <td>0.0</td>\n",
              "      <td>10.0</td>\n",
              "      <td>2.0</td>\n",
              "      <td>...</td>\n",
              "      <td>Nearby</td>\n",
              "      <td>Moderate Distance</td>\n",
              "      <td>English</td>\n",
              "      <td>Pre-primary &amp; Primary</td>\n",
              "      <td>Low Education</td>\n",
              "      <td>No Technical Education</td>\n",
              "      <td>Government</td>\n",
              "      <td>North</td>\n",
              "      <td>Household Members</td>\n",
              "      <td>0.0</td>\n",
              "    </tr>\n",
              "    <tr>\n",
              "      <th>3</th>\n",
              "      <td>344431303</td>\n",
              "      <td>3.0</td>\n",
              "      <td>1</td>\n",
              "      <td>0</td>\n",
              "      <td>0</td>\n",
              "      <td>6500</td>\n",
              "      <td>0</td>\n",
              "      <td>0.0</td>\n",
              "      <td>10.0</td>\n",
              "      <td>1.0</td>\n",
              "      <td>...</td>\n",
              "      <td>Nearby</td>\n",
              "      <td>Moderate Distance</td>\n",
              "      <td>English</td>\n",
              "      <td>Pre-primary &amp; Primary</td>\n",
              "      <td>Low Education</td>\n",
              "      <td>No Technical Education</td>\n",
              "      <td>Government</td>\n",
              "      <td>North</td>\n",
              "      <td>Household Members</td>\n",
              "      <td>0.0</td>\n",
              "    </tr>\n",
              "    <tr>\n",
              "      <th>5</th>\n",
              "      <td>344432301</td>\n",
              "      <td>3.0</td>\n",
              "      <td>1</td>\n",
              "      <td>0</td>\n",
              "      <td>0</td>\n",
              "      <td>4000</td>\n",
              "      <td>0</td>\n",
              "      <td>0.0</td>\n",
              "      <td>10.0</td>\n",
              "      <td>1.0</td>\n",
              "      <td>...</td>\n",
              "      <td>Nearby</td>\n",
              "      <td>Moderate Distance</td>\n",
              "      <td>English</td>\n",
              "      <td>Pre-primary &amp; Primary</td>\n",
              "      <td>Low Education</td>\n",
              "      <td>No Technical Education</td>\n",
              "      <td>Government</td>\n",
              "      <td>North</td>\n",
              "      <td>Household Members</td>\n",
              "      <td>0.0</td>\n",
              "    </tr>\n",
              "  </tbody>\n",
              "</table>\n",
              "<p>5 rows × 30 columns</p>\n",
              "</div>\n",
              "    <div class=\"colab-df-buttons\">\n",
              "\n",
              "  <div class=\"colab-df-container\">\n",
              "    <button class=\"colab-df-convert\" onclick=\"convertToInteractive('df-a600124c-a0cc-46d5-879d-d1c86a3e5e06')\"\n",
              "            title=\"Convert this dataframe to an interactive table.\"\n",
              "            style=\"display:none;\">\n",
              "\n",
              "  <svg xmlns=\"http://www.w3.org/2000/svg\" height=\"24px\" viewBox=\"0 -960 960 960\">\n",
              "    <path d=\"M120-120v-720h720v720H120Zm60-500h600v-160H180v160Zm220 220h160v-160H400v160Zm0 220h160v-160H400v160ZM180-400h160v-160H180v160Zm440 0h160v-160H620v160ZM180-180h160v-160H180v160Zm440 0h160v-160H620v160Z\"/>\n",
              "  </svg>\n",
              "    </button>\n",
              "\n",
              "  <style>\n",
              "    .colab-df-container {\n",
              "      display:flex;\n",
              "      gap: 12px;\n",
              "    }\n",
              "\n",
              "    .colab-df-convert {\n",
              "      background-color: #E8F0FE;\n",
              "      border: none;\n",
              "      border-radius: 50%;\n",
              "      cursor: pointer;\n",
              "      display: none;\n",
              "      fill: #1967D2;\n",
              "      height: 32px;\n",
              "      padding: 0 0 0 0;\n",
              "      width: 32px;\n",
              "    }\n",
              "\n",
              "    .colab-df-convert:hover {\n",
              "      background-color: #E2EBFA;\n",
              "      box-shadow: 0px 1px 2px rgba(60, 64, 67, 0.3), 0px 1px 3px 1px rgba(60, 64, 67, 0.15);\n",
              "      fill: #174EA6;\n",
              "    }\n",
              "\n",
              "    .colab-df-buttons div {\n",
              "      margin-bottom: 4px;\n",
              "    }\n",
              "\n",
              "    [theme=dark] .colab-df-convert {\n",
              "      background-color: #3B4455;\n",
              "      fill: #D2E3FC;\n",
              "    }\n",
              "\n",
              "    [theme=dark] .colab-df-convert:hover {\n",
              "      background-color: #434B5C;\n",
              "      box-shadow: 0px 1px 3px 1px rgba(0, 0, 0, 0.15);\n",
              "      filter: drop-shadow(0px 1px 2px rgba(0, 0, 0, 0.3));\n",
              "      fill: #FFFFFF;\n",
              "    }\n",
              "  </style>\n",
              "\n",
              "    <script>\n",
              "      const buttonEl =\n",
              "        document.querySelector('#df-a600124c-a0cc-46d5-879d-d1c86a3e5e06 button.colab-df-convert');\n",
              "      buttonEl.style.display =\n",
              "        google.colab.kernel.accessAllowed ? 'block' : 'none';\n",
              "\n",
              "      async function convertToInteractive(key) {\n",
              "        const element = document.querySelector('#df-a600124c-a0cc-46d5-879d-d1c86a3e5e06');\n",
              "        const dataTable =\n",
              "          await google.colab.kernel.invokeFunction('convertToInteractive',\n",
              "                                                    [key], {});\n",
              "        if (!dataTable) return;\n",
              "\n",
              "        const docLinkHtml = 'Like what you see? Visit the ' +\n",
              "          '<a target=\"_blank\" href=https://colab.research.google.com/notebooks/data_table.ipynb>data table notebook</a>'\n",
              "          + ' to learn more about interactive tables.';\n",
              "        element.innerHTML = '';\n",
              "        dataTable['output_type'] = 'display_data';\n",
              "        await google.colab.output.renderOutput(dataTable, element);\n",
              "        const docLink = document.createElement('div');\n",
              "        docLink.innerHTML = docLinkHtml;\n",
              "        element.appendChild(docLink);\n",
              "      }\n",
              "    </script>\n",
              "  </div>\n",
              "\n",
              "\n",
              "<div id=\"df-c5cbb827-0280-4061-a372-9f255a6c9aa0\">\n",
              "  <button class=\"colab-df-quickchart\" onclick=\"quickchart('df-c5cbb827-0280-4061-a372-9f255a6c9aa0')\"\n",
              "            title=\"Suggest charts\"\n",
              "            style=\"display:none;\">\n",
              "\n",
              "<svg xmlns=\"http://www.w3.org/2000/svg\" height=\"24px\"viewBox=\"0 0 24 24\"\n",
              "     width=\"24px\">\n",
              "    <g>\n",
              "        <path d=\"M19 3H5c-1.1 0-2 .9-2 2v14c0 1.1.9 2 2 2h14c1.1 0 2-.9 2-2V5c0-1.1-.9-2-2-2zM9 17H7v-7h2v7zm4 0h-2V7h2v10zm4 0h-2v-4h2v4z\"/>\n",
              "    </g>\n",
              "</svg>\n",
              "  </button>\n",
              "\n",
              "<style>\n",
              "  .colab-df-quickchart {\n",
              "      --bg-color: #E8F0FE;\n",
              "      --fill-color: #1967D2;\n",
              "      --hover-bg-color: #E2EBFA;\n",
              "      --hover-fill-color: #174EA6;\n",
              "      --disabled-fill-color: #AAA;\n",
              "      --disabled-bg-color: #DDD;\n",
              "  }\n",
              "\n",
              "  [theme=dark] .colab-df-quickchart {\n",
              "      --bg-color: #3B4455;\n",
              "      --fill-color: #D2E3FC;\n",
              "      --hover-bg-color: #434B5C;\n",
              "      --hover-fill-color: #FFFFFF;\n",
              "      --disabled-bg-color: #3B4455;\n",
              "      --disabled-fill-color: #666;\n",
              "  }\n",
              "\n",
              "  .colab-df-quickchart {\n",
              "    background-color: var(--bg-color);\n",
              "    border: none;\n",
              "    border-radius: 50%;\n",
              "    cursor: pointer;\n",
              "    display: none;\n",
              "    fill: var(--fill-color);\n",
              "    height: 32px;\n",
              "    padding: 0;\n",
              "    width: 32px;\n",
              "  }\n",
              "\n",
              "  .colab-df-quickchart:hover {\n",
              "    background-color: var(--hover-bg-color);\n",
              "    box-shadow: 0 1px 2px rgba(60, 64, 67, 0.3), 0 1px 3px 1px rgba(60, 64, 67, 0.15);\n",
              "    fill: var(--button-hover-fill-color);\n",
              "  }\n",
              "\n",
              "  .colab-df-quickchart-complete:disabled,\n",
              "  .colab-df-quickchart-complete:disabled:hover {\n",
              "    background-color: var(--disabled-bg-color);\n",
              "    fill: var(--disabled-fill-color);\n",
              "    box-shadow: none;\n",
              "  }\n",
              "\n",
              "  .colab-df-spinner {\n",
              "    border: 2px solid var(--fill-color);\n",
              "    border-color: transparent;\n",
              "    border-bottom-color: var(--fill-color);\n",
              "    animation:\n",
              "      spin 1s steps(1) infinite;\n",
              "  }\n",
              "\n",
              "  @keyframes spin {\n",
              "    0% {\n",
              "      border-color: transparent;\n",
              "      border-bottom-color: var(--fill-color);\n",
              "      border-left-color: var(--fill-color);\n",
              "    }\n",
              "    20% {\n",
              "      border-color: transparent;\n",
              "      border-left-color: var(--fill-color);\n",
              "      border-top-color: var(--fill-color);\n",
              "    }\n",
              "    30% {\n",
              "      border-color: transparent;\n",
              "      border-left-color: var(--fill-color);\n",
              "      border-top-color: var(--fill-color);\n",
              "      border-right-color: var(--fill-color);\n",
              "    }\n",
              "    40% {\n",
              "      border-color: transparent;\n",
              "      border-right-color: var(--fill-color);\n",
              "      border-top-color: var(--fill-color);\n",
              "    }\n",
              "    60% {\n",
              "      border-color: transparent;\n",
              "      border-right-color: var(--fill-color);\n",
              "    }\n",
              "    80% {\n",
              "      border-color: transparent;\n",
              "      border-right-color: var(--fill-color);\n",
              "      border-bottom-color: var(--fill-color);\n",
              "    }\n",
              "    90% {\n",
              "      border-color: transparent;\n",
              "      border-bottom-color: var(--fill-color);\n",
              "    }\n",
              "  }\n",
              "</style>\n",
              "\n",
              "  <script>\n",
              "    async function quickchart(key) {\n",
              "      const quickchartButtonEl =\n",
              "        document.querySelector('#' + key + ' button');\n",
              "      quickchartButtonEl.disabled = true;  // To prevent multiple clicks.\n",
              "      quickchartButtonEl.classList.add('colab-df-spinner');\n",
              "      try {\n",
              "        const charts = await google.colab.kernel.invokeFunction(\n",
              "            'suggestCharts', [key], {});\n",
              "      } catch (error) {\n",
              "        console.error('Error during call to suggestCharts:', error);\n",
              "      }\n",
              "      quickchartButtonEl.classList.remove('colab-df-spinner');\n",
              "      quickchartButtonEl.classList.add('colab-df-quickchart-complete');\n",
              "    }\n",
              "    (() => {\n",
              "      let quickchartButtonEl =\n",
              "        document.querySelector('#df-c5cbb827-0280-4061-a372-9f255a6c9aa0 button');\n",
              "      quickchartButtonEl.style.display =\n",
              "        google.colab.kernel.accessAllowed ? 'block' : 'none';\n",
              "    })();\n",
              "  </script>\n",
              "</div>\n",
              "\n",
              "    </div>\n",
              "  </div>\n"
            ],
            "application/vnd.google.colaboratory.intrinsic+json": {
              "type": "dataframe",
              "variable_name": "df"
            }
          },
          "metadata": {},
          "execution_count": 62
        }
      ]
    },
    {
      "cell_type": "code",
      "source": [
        "df.to_csv('final_dataset.csv', index=False)"
      ],
      "metadata": {
        "id": "pyvmqHWbPPGt"
      },
      "execution_count": null,
      "outputs": []
    },
    {
      "cell_type": "code",
      "source": [
        "df.shape"
      ],
      "metadata": {
        "id": "oluYAyR3UgIF",
        "outputId": "ffbedb2f-fe14-4b24-cf4c-bc43eb793a5c",
        "colab": {
          "base_uri": "https://localhost:8080/"
        }
      },
      "execution_count": null,
      "outputs": [
        {
          "output_type": "execute_result",
          "data": {
            "text/plain": [
              "(152552, 30)"
            ]
          },
          "metadata": {},
          "execution_count": 64
        }
      ]
    }
  ]
}